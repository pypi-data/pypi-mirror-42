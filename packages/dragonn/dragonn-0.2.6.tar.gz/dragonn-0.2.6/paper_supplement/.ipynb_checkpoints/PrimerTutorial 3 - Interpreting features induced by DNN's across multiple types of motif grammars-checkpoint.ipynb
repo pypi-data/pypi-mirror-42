{
 "cells": [
  {
   "cell_type": "markdown",
   "metadata": {},
   "source": [
    "Todo: \n",
    "* threshold motif scores at 0 \n",
    "* PRC curves --> Merged in this notebooks. \n",
    "* option of shuffled reference & background frequencies for deepLIFT \n",
    "* fixed axes on deepLIFT plots\n",
    "\n",
    "\n",
    "# How to train your DragoNN tutorial 3: \n",
    "## Interpreting features induced by DNN's across multiple types of motif grammars \n",
    "\n",
    "This tutorial is a supplement to the DragoNN manuscript and follows figure 7 in the manuscript. \n",
    "\n",
    "This tutorial will take 1 hour  if executed on a GPU. \n",
    "\n",
    "Please complete \"Primer Tutorial 1- Exploring model architectures for a homotypic motif density simulation\" prior to completing this tutorial. \n",
    "\n",
    "The architectures used in this tutorial were determined as optimal by hyperparameter grid search in \"Primer Tutorial 3 - CNN Hyperparameter Tuning via Grid Search\"\n",
    "\n",
    "\n",
    "## Outline<a name='outline'>\n",
    "<ol>\n",
    "    <li><a href=#1>How to use this tutorial</a></li>\n",
    "    <li><a href=#2>Defining helper functions for model training and interpretation</a></li>\n",
    "    TODO: explain reference options. \n",
    "    <li><a href=#3>Simulating training data with simdna: Review of Tutorial 1</a></li>\n",
    "    <li><a href=#4>Single Motif</a></li>\n",
    "    <li><a href=#5>Homotypic motif density detection</a></li>\n",
    "    <li><a href=#6>Homotypic motif density localization</a></li>\n",
    "    <li><a href=#7>Multiple motifs (multi-task)</a></li>  \n",
    "    <li><a href=#8>Heterotypic motifs spatial grammar</a></li>\n",
    "    <li><a href=#9>Conclusions</a></li>\n",
    "</ol>\n",
    "Github issues on the dragonn repository with feedback, questions, and discussion are always welcome.\n",
    "\n",
    " "
   ]
  },
  {
   "cell_type": "markdown",
   "metadata": {},
   "source": [
    "## How to use this tutorial<a name='1'>\n",
    "<a href=#outline>Home</a>\n",
    "\n",
    "This tutorial utilizes a Jupyter/IPython Notebook - an interactive computational enviroment that combines live code, visualizations, and explanatory text. The notebook is organized into a series of cells. You can run the next cell by cliking the play button:\n",
    "![play button](./primer_tutorial_images/play_button.png)\n",
    "You can also run all cells in a series by clicking \"run all\" in the Cell drop-down menu:\n",
    "![play all button](./primer_tutorial_images/play_all_button.png)\n",
    "Half of the cells in this tutorial contain code, the other half contain visualizations and explanatory text. Code, visualizations, and text in cells can be modified - you are encouraged to modify the code as you advance through the tutorial. You can inspect the implementation of a function used in a cell by following these steps:\n",
    "![inspecting code](./primer_tutorial_images/inspecting_code.png)\n"
   ]
  },
  {
   "cell_type": "code",
   "execution_count": 1,
   "metadata": {},
   "outputs": [],
   "source": [
    "#uncomment the lines below if you are running this tutorial from Google Colab \n",
    "#!pip install https://github.com/kundajelab/simdna/archive/0.3.zip\n",
    "#!pip install https://github.com/kundajelab/dragonn/archive/keras_2.2_tensorflow_1.6_purekeras.zip\n"
   ]
  },
  {
   "cell_type": "code",
   "execution_count": 2,
   "metadata": {},
   "outputs": [
    {
     "name": "stderr",
     "output_type": "stream",
     "text": [
      "Using TensorFlow backend.\n"
     ]
    }
   ],
   "source": [
    "#To prepare for model training, we import the necessary functions and submodules from keras\n",
    "from keras.models import Sequential\n",
    "from keras.layers.core import Dropout, Reshape, Dense, Activation, Flatten\n",
    "from keras.layers.convolutional import Conv2D, MaxPooling2D\n",
    "from keras.optimizers import Adadelta, SGD, RMSprop;\n",
    "import keras.losses;\n",
    "from keras.constraints import maxnorm;\n",
    "from keras.layers.normalization import BatchNormalization\n",
    "from keras.regularizers import l1, l2\n",
    "from keras.callbacks import EarlyStopping, History\n",
    "from keras import backend as K \n",
    "K.set_image_data_format('channels_last')\n",
    "import numpy as np "
   ]
  },
  {
   "cell_type": "markdown",
   "metadata": {},
   "source": [
    "We start by loading dragonn's tutorial utilities."
   ]
  },
  {
   "cell_type": "code",
   "execution_count": 3,
   "metadata": {},
   "outputs": [
    {
     "name": "stderr",
     "output_type": "stream",
     "text": [
      "/users/annashch/miniconda3/lib/python3.6/site-packages/sklearn/ensemble/weight_boosting.py:29: DeprecationWarning: numpy.core.umath_tests is an internal NumPy module and should not be imported. It will be removed in a future NumPy release.\n",
      "  from numpy.core.umath_tests import inner1d\n"
     ]
    }
   ],
   "source": [
    "#load dragonn tutorial utilities \n",
    "%reload_ext autoreload\n",
    "%autoreload 2\n",
    "%matplotlib inline\n",
    "import warnings\n",
    "warnings.filterwarnings('ignore')\n",
    "\n",
    "from dragonn.tutorial_utils import *"
   ]
  },
  {
   "cell_type": "markdown",
   "metadata": {},
   "source": [
    "## Defining helper functions for model training and interpretation  <a name='2'>\n",
    "<a href=#outline>Home</a>\n"
   ]
  },
  {
   "cell_type": "markdown",
   "metadata": {},
   "source": [
    "For each type of simulation, we will perform a consistent set of tasks: \n",
    "* Define the optimal model architecture, as determined in Tutorial 2. This architecture will be specific to the simulation used, so we don't write a universal helper function for this purpose. \n",
    "* Train the model on simulation data and visualize the model's learning curve on training and validation data. \n",
    "* Compute the model's performance on a held-out test set.\n",
    "* Visualize motif scores for a positive and negative example. \n",
    "* Perform in silico mutagenesis for a positive and negative example.\n",
    "* Compute DeepLIFT scores for a positive and negative example.\n",
    "\n",
    "To avoid writing the same code for each scenario, we define a series of helpers functions to perform the tasks above. "
   ]
  },
  {
   "cell_type": "code",
   "execution_count": 4,
   "metadata": {},
   "outputs": [],
   "source": [
    "from dragonn.callbacks import * \n",
    "from dragonn.tutorial_utils import plot_learning_curve\n",
    "\n",
    "def train_model(model,data):\n",
    "    #We define a custom callback to print training and validation metrics while training. \n",
    "    metrics_callback=MetricsCallback(train_data=(data.X_train,data.y_train),validation_data=(data.X_valid,data.y_valid))\n",
    "    \n",
    "    #Train the model \n",
    "    history=model.fit(x=data.X_train,\n",
    "                                  y=data.y_train,\n",
    "                                  batch_size=128,\n",
    "                                  epochs=150,\n",
    "                                  verbose=0,\n",
    "                                  callbacks=[EarlyStopping(patience=7,restore_best_weights=True),\n",
    "                                            History(),\n",
    "                                            metrics_callback],\n",
    "                                  validation_data=(data.X_valid,\n",
    "                                                   data.y_valid))\n",
    "    \n",
    "    #Visualize the model's performance curve \n",
    "    plot_learning_curve(history)\n",
    "    return model"
   ]
  },
  {
   "cell_type": "code",
   "execution_count": 5,
   "metadata": {},
   "outputs": [],
   "source": [
    "#Compute model performance on a held out test set \n",
    "def compute_performance(model,data):\n",
    "    test_predictions=model.predict(data.X_test)\n",
    "    ## Generate a ClassificationResult object to print performance metrics on held-out test set \n",
    "    print(ClassificationResult(data.y_test,test_predictions))\n"
   ]
  },
  {
   "cell_type": "code",
   "execution_count": 6,
   "metadata": {},
   "outputs": [],
   "source": [
    "def extract_pos_and_neg_validation_sample(data,pos_index,neg_index):\n",
    "#get the indices of the specified positive and negative examples in the validation data split\n",
    "    pos_index=np.flatnonzero(data.y_valid==1)[pos_index]\n",
    "    pos_X=data.X_valid[pos_index:pos_index+1]\n",
    "    neg_index=np.flatnonzero(data.y_valid==0)[neg_index]\n",
    "    neg_X=data.X_valid[neg_index:neg_index+1]\n",
    "    return pos_X,neg_X"
   ]
  },
  {
   "cell_type": "code",
   "execution_count": 7,
   "metadata": {},
   "outputs": [],
   "source": [
    "#Visualize motif scores for a positive and negative example \n",
    "#pos_index: index value of a simulated positive datapoint to use for motif visualization \n",
    "#neg_index: index value of a simulated negative datapoint to use for motif visualization \n",
    "def visualize_motif_scores(model,pos_X,neg_X,data): \n",
    "    pos_motif_scores=get_motif_scores(pos_X,data.motif_names,return_positions=True).squeeze()\n",
    "    neg_motif_scores=get_motif_scores(neg_X,data.motif_names,return_positions=True).squeeze()\n",
    "    \n",
    "    plt.figure(figsize=(20,3))\n",
    "    ax1=plt.subplot(211)\n",
    "    ax2=plt.subplot(212)\n",
    "    \n",
    "    ax1.plot(pos_motif_scores, \"-o\")\n",
    "    ax1.set_ylim(0,max(pos_motif_scores))\n",
    "    ax1.set_xlabel(\"Sequence base\")\n",
    "    ax1.set_ylabel(\"Motif scan score\")\n",
    "    ax1.set_title(\"Positive example\")\n",
    "\n",
    "    ax2.plot(neg_motif_scores, \"-o\")\n",
    "    ax2.set_ylim(0,max(pos_motif_scores))\n",
    "    ax2.set_xlabel(\"Sequence base\")\n",
    "    ax2.set_ylabel(\"Motif scan score\")\n",
    "    ax2.set_title(\"Negative example\")\n",
    "    plt.show()\n"
   ]
  },
  {
   "cell_type": "code",
   "execution_count": 8,
   "metadata": {},
   "outputs": [],
   "source": [
    "from dragonn.tutorial_utils import in_silico_mutagenesis, plot_ism\n",
    "\n",
    "def perform_ism(model,pos_X,neg_X,data): \n",
    "    ism_pos=in_silico_mutagenesis(model,pos_X)\n",
    "    ism_neg=in_silico_mutagenesis(model,neg_X)\n",
    "    min_val=min([np.amin(ism_pos),np.amin(ism_neg)])\n",
    "    max_val=max([np.amax(ism_pos),np.amax(ism_neg)])\n",
    "    plot_ism(ism_pos,\"Positive Example\",min_val=min_val,max_val=max_val)\n",
    "    plot_ism(ism_neg,\"Negative Example\",min_val=min_val,max_val=max_val)\n",
    "    return ism_pos, ism_neg"
   ]
  },
  {
   "cell_type": "code",
   "execution_count": 9,
   "metadata": {},
   "outputs": [],
   "source": [
    "from dragonn.tutorial_utils import input_grad\n",
    "\n",
    "def compute_gradxinput_scores(model,pos_X,neg_X,data):\n",
    "    gradinput_pos=input_grad(model,pos_X)\n",
    "    gradinput_neg=input_grad(model,neg_X)\n",
    "    min_val=min([np.amin(gradinput_pos),np.amin(gradinput_neg)])\n",
    "    max_val=max([np.amax(gradinput_pos),np.amax(gradinput_neg)])\n",
    "    plot_seq_importance(gradinput_pos,pos_X,title=\"Positive\",ylim=(min_val,max_val))\n",
    "    plot_seq_importance(gradinput_neg,neg_X,title=\"Negative\",ylim=(min_val,max_val))\n",
    "    return gradinput_pos,gradinput_neg "
   ]
  },
  {
   "cell_type": "code",
   "execution_count": 10,
   "metadata": {},
   "outputs": [],
   "source": [
    "from dragonn.tutorial_utils import deeplift\n",
    "\n",
    "def compute_deeplift_scores(model,pos_X,neg_X,data):\n",
    "    dl_pos=deeplift(model,pos_X)\n",
    "    dl_neg=deeplift(model,neg_X)\n",
    "    min_val=min([np.amin(gradinput_pos),np.amin(gradinput_neg)])\n",
    "    max_val=max([np.amax(gradinput_pos),np.amax(gradinput_neg)])\n",
    "    plot_seq_importance(dl_pos,pos_X,title=\"Positive\",ylim=(min_val,max_val))\n",
    "    plot_seq_importance(dl_neg,neg_X,title=\"Negative\",ylim=(min_val,max_val))\n",
    "    return dl_pos,dl_neg"
   ]
  },
  {
   "cell_type": "code",
   "execution_count": 11,
   "metadata": {},
   "outputs": [],
   "source": [
    "def interpret(model,pos_X,neg_X,data): \n",
    "    visualize_motif_scores(model,pos_X,neg_X,data)\n",
    "    ism_pos,ism_neg=perform_ism(model,pos_X,neg_X,data)\n",
    "    gradinput_pos,gradinput_neg=compute_gradxinput_scores(model,pos_X,neg_X,data)\n",
    "    dl_pos,dl_neg=compute_deeplift_scores(model,pos_X,neg_X,data)\n",
    "    return ism_pos, ism_neg, gradinput_pos, gradinput_neg, dl_pos, dl_neg "
   ]
  },
  {
   "cell_type": "code",
   "execution_count": 12,
   "metadata": {},
   "outputs": [],
   "source": [
    "#Run the full data analysis for a given dataset and model \n",
    "#Train the model, compute it's performance on a positive and negative data point \n",
    "def analyze(model,data,pos_index,neg_index):\n",
    "    model=train_model(model,data)\n",
    "    compute_performance(model,data)\n",
    "    pos_X,neg_X=extract_pos_and_neg_validation_sample(data,pos_index,neg_index)\n",
    "    ism_pos,ism_neg, gradinput_pos, gradinput_neg, dl_pos,dl_neg=interpret(model,pos_X,neg_X,data)\n",
    "    return pos_X, neg_X, ism_pos, ism_neg, gradinput_pos, gradinput_neg, dl_pos,dl_neg"
   ]
  },
  {
   "cell_type": "markdown",
   "metadata": {},
   "source": [
    "Finally, we set a random seed to ensure that all analyses in this tutorial are reproducible. "
   ]
  },
  {
   "cell_type": "code",
   "execution_count": 13,
   "metadata": {},
   "outputs": [],
   "source": [
    "# Making sure our results are reproducible\n",
    "from numpy.random import seed\n",
    "seed(1234)\n",
    "from tensorflow import set_random_seed\n",
    "set_random_seed(1234)"
   ]
  },
  {
   "cell_type": "markdown",
   "metadata": {},
   "source": [
    "## Getting simulation data <a name='3'>\n",
    "<a href=#outline>Home</a>\n",
    "\n",
    "\n",
    "DragoNN provides a set of simulation functions. Let's use the **print_available_simulations** function to examine the list of simulations supported by DragoNN:"
   ]
  },
  {
   "cell_type": "code",
   "execution_count": 14,
   "metadata": {},
   "outputs": [
    {
     "name": "stdout",
     "output_type": "stream",
     "text": [
      "simulate_differential_accessibility\n",
      "simulate_heterodimer_grammar\n",
      "simulate_motif_counting\n",
      "simulate_motif_density_localization\n",
      "simulate_multi_motif_embedding\n",
      "simulate_single_motif_detection\n"
     ]
    }
   ],
   "source": [
    "print_available_simulations()"
   ]
  },
  {
   "cell_type": "markdown",
   "metadata": {},
   "source": [
    "## Single Motif <a name='4'>\n",
    "<a href=#outline>Home</a>\n"
   ]
  },
  {
   "cell_type": "markdown",
   "metadata": {},
   "source": [
    "We begin with single motif detection of the TAL1_known4 motif: \n",
    "\n",
    "![play button](./primer_tutorial_images/TAL1_known4.png)\n",
    "Let's find out what parameters are needed for the simulation: "
   ]
  },
  {
   "cell_type": "code",
   "execution_count": 15,
   "metadata": {},
   "outputs": [
    {
     "name": "stdout",
     "output_type": "stream",
     "text": [
      "\n",
      "    Simulates two classes of seqeuences:\n",
      "        - Positive class sequence with a motif\n",
      "          embedded anywhere in the sequence\n",
      "        - Negative class sequence without the motif\n",
      "\n",
      "    Parameters\n",
      "    ----------\n",
      "    motif_name : str\n",
      "        encode motif name\n",
      "    seq_length : int\n",
      "        length of sequence\n",
      "    num_pos : int\n",
      "        number of positive class sequences\n",
      "    num_neg : int\n",
      "        number of negative class sequences\n",
      "    GC_fraction : float\n",
      "        GC fraction in background sequence\n",
      "\n",
      "    Returns\n",
      "    -------\n",
      "    sequence_arr : 1darray\n",
      "        Array with sequence strings.\n",
      "    y : 1darray\n",
      "        Array with positive/negative class labels.\n",
      "    embedding_arr: 1darray\n",
      "        Array of embedding objects.\n",
      "    \n"
     ]
    }
   ],
   "source": [
    "print_simulation_info(\"simulate_single_motif_detection\")"
   ]
  },
  {
   "cell_type": "markdown",
   "metadata": {},
   "source": [
    "In this binary simulation task, we simulate a negative set of 10K 500 bp random sequences and a positive set of 10K 500 bp random sequences with one instance of the TAL1 motif randomly embedded at any position."
   ]
  },
  {
   "cell_type": "code",
   "execution_count": 16,
   "metadata": {},
   "outputs": [],
   "source": [
    "#Define simulation parameters \n",
    "tal1_parameters = {\n",
    "    \"motif_name\": \"TAL1_known4\",\n",
    "    \"seq_length\": 500, \n",
    "    \"num_pos\": 10000,\n",
    "    \"num_neg\": 10000,\n",
    "    \"GC_fraction\": 0.4}\n",
    "\n",
    "#Get simulation data \n",
    "tal1_data = get_simulation_data(\"simulate_single_motif_detection\",\n",
    "                                      tal1_parameters,\n",
    "                                      validation_set_size=3200, test_set_size=4000)\n"
   ]
  },
  {
   "cell_type": "markdown",
   "metadata": {},
   "source": [
    "We define the convolutional neural network model architecture: "
   ]
  },
  {
   "cell_type": "code",
   "execution_count": 17,
   "metadata": {},
   "outputs": [],
   "source": [
    "#Define the optimal model architecture in keras (Refer to Primer Tutorial 2)\n",
    "tal1_model=Sequential() \n",
    "tal1_model.add(Conv2D(filters=10,kernel_size=(1,15),input_shape=tal1_data.X_train.shape[1::]))\n",
    "tal1_model.add(Activation('relu'))\n",
    "tal1_model.add(MaxPooling2D(pool_size=(1,35)))\n",
    "tal1_model.add(Flatten())\n",
    "tal1_model.add(Dense(1))\n",
    "tal1_model.add(Activation(\"sigmoid\"))\n",
    "\n",
    "##compile the model, specifying the Adam optimizer, and binary cross-entropy loss. \n",
    "tal1_model.compile(optimizer='adam',\n",
    "                               loss='binary_crossentropy')"
   ]
  },
  {
   "cell_type": "code",
   "execution_count": 18,
   "metadata": {},
   "outputs": [
    {
     "name": "stdout",
     "output_type": "stream",
     "text": [
      "Training Data:\n",
      "Loss: 0.6926\tBalanced Accuracy: 52.35%\t auROC: 0.531\t auPRC: 0.524\n",
      "\tRecall at 5%|10%|20% FDR: 0.0%|0.0%|0.0%\t Num Positives: 6401\t Num Negatives: 6399\n",
      "Validation Data:\n",
      "Loss: 0.6966\tBalanced Accuracy: 50.91%\t auROC: 0.504\t auPRC: 0.506\n",
      "\tRecall at 5%|10%|20% FDR: 0.0%|0.0%|0.0%\t Num Positives: 1617\t Num Negatives: 1583\n",
      "Training Data:\n",
      "Loss: 0.6887\tBalanced Accuracy: 53.47%\t auROC: 0.557\t auPRC: 0.547\n",
      "\tRecall at 5%|10%|20% FDR: 0.0%|0.0%|0.0%\t Num Positives: 6401\t Num Negatives: 6399\n",
      "Validation Data:\n",
      "Loss: 0.6954\tBalanced Accuracy: 50.67%\t auROC: 0.515\t auPRC: 0.515\n",
      "\tRecall at 5%|10%|20% FDR: 0.0%|0.0%|0.0%\t Num Positives: 1617\t Num Negatives: 1583\n",
      "Training Data:\n",
      "Loss: 0.6845\tBalanced Accuracy: 55.63%\t auROC: 0.582\t auPRC: 0.572\n",
      "\tRecall at 5%|10%|20% FDR: 0.0%|0.0%|0.0%\t Num Positives: 6401\t Num Negatives: 6399\n",
      "Validation Data:\n",
      "Loss: 0.6933\tBalanced Accuracy: 52.67%\t auROC: 0.531\t auPRC: 0.528\n",
      "\tRecall at 5%|10%|20% FDR: 0.0%|0.0%|0.0%\t Num Positives: 1617\t Num Negatives: 1583\n",
      "Training Data:\n",
      "Loss: 0.6802\tBalanced Accuracy: 57.14%\t auROC: 0.608\t auPRC: 0.598\n",
      "\tRecall at 5%|10%|20% FDR: 0.0%|0.0%|0.4%\t Num Positives: 6401\t Num Negatives: 6399\n",
      "Validation Data:\n",
      "Loss: 0.6910\tBalanced Accuracy: 52.98%\t auROC: 0.547\t auPRC: 0.544\n",
      "\tRecall at 5%|10%|20% FDR: 0.0%|0.0%|0.0%\t Num Positives: 1617\t Num Negatives: 1583\n",
      "Training Data:\n",
      "Loss: 0.6740\tBalanced Accuracy: 59.34%\t auROC: 0.631\t auPRC: 0.624\n",
      "\tRecall at 5%|10%|20% FDR: 0.1%|0.3%|4.6%\t Num Positives: 6401\t Num Negatives: 6399\n",
      "Validation Data:\n",
      "Loss: 0.6857\tBalanced Accuracy: 54.04%\t auROC: 0.565\t auPRC: 0.565\n",
      "\tRecall at 5%|10%|20% FDR: 0.0%|0.0%|0.0%\t Num Positives: 1617\t Num Negatives: 1583\n",
      "Training Data:\n",
      "Loss: 0.6683\tBalanced Accuracy: 60.99%\t auROC: 0.652\t auPRC: 0.648\n",
      "\tRecall at 5%|10%|20% FDR: 0.1%|1.0%|8.2%\t Num Positives: 6401\t Num Negatives: 6399\n",
      "Validation Data:\n",
      "Loss: 0.6809\tBalanced Accuracy: 56.08%\t auROC: 0.588\t auPRC: 0.591\n",
      "\tRecall at 5%|10%|20% FDR: 0.0%|0.0%|0.3%\t Num Positives: 1617\t Num Negatives: 1583\n",
      "Training Data:\n",
      "Loss: 0.6627\tBalanced Accuracy: 61.62%\t auROC: 0.673\t auPRC: 0.670\n",
      "\tRecall at 5%|10%|20% FDR: 0.2%|1.3%|13.3%\t Num Positives: 6401\t Num Negatives: 6399\n",
      "Validation Data:\n",
      "Loss: 0.6768\tBalanced Accuracy: 56.75%\t auROC: 0.610\t auPRC: 0.615\n",
      "\tRecall at 5%|10%|20% FDR: 0.1%|0.6%|3.1%\t Num Positives: 1617\t Num Negatives: 1583\n",
      "Training Data:\n",
      "Loss: 0.6547\tBalanced Accuracy: 62.53%\t auROC: 0.694\t auPRC: 0.692\n",
      "\tRecall at 5%|10%|20% FDR: 0.0%|3.4%|18.9%\t Num Positives: 6401\t Num Negatives: 6399\n",
      "Validation Data:\n",
      "Loss: 0.6679\tBalanced Accuracy: 58.70%\t auROC: 0.638\t auPRC: 0.644\n",
      "\tRecall at 5%|10%|20% FDR: 0.6%|0.6%|8.5%\t Num Positives: 1617\t Num Negatives: 1583\n",
      "Training Data:\n",
      "Loss: 0.6442\tBalanced Accuracy: 64.97%\t auROC: 0.712\t auPRC: 0.709\n",
      "\tRecall at 5%|10%|20% FDR: 0.5%|5.1%|23.3%\t Num Positives: 6401\t Num Negatives: 6399\n",
      "Validation Data:\n",
      "Loss: 0.6591\tBalanced Accuracy: 60.87%\t auROC: 0.660\t auPRC: 0.666\n",
      "\tRecall at 5%|10%|20% FDR: 1.5%|2.4%|14.7%\t Num Positives: 1617\t Num Negatives: 1583\n",
      "Training Data:\n",
      "Loss: 0.6335\tBalanced Accuracy: 66.08%\t auROC: 0.728\t auPRC: 0.723\n",
      "\tRecall at 5%|10%|20% FDR: 0.0%|6.8%|28.7%\t Num Positives: 6401\t Num Negatives: 6399\n",
      "Validation Data:\n",
      "Loss: 0.6488\tBalanced Accuracy: 61.94%\t auROC: 0.681\t auPRC: 0.686\n",
      "\tRecall at 5%|10%|20% FDR: 1.9%|4.1%|21.1%\t Num Positives: 1617\t Num Negatives: 1583\n",
      "Training Data:\n",
      "Loss: 0.6229\tBalanced Accuracy: 67.05%\t auROC: 0.741\t auPRC: 0.734\n",
      "\tRecall at 5%|10%|20% FDR: 3.0%|7.4%|31.9%\t Num Positives: 6401\t Num Negatives: 6399\n",
      "Validation Data:\n",
      "Loss: 0.6392\tBalanced Accuracy: 63.28%\t auROC: 0.697\t auPRC: 0.701\n",
      "\tRecall at 5%|10%|20% FDR: 2.5%|2.7%|25.4%\t Num Positives: 1617\t Num Negatives: 1583\n",
      "Training Data:\n",
      "Loss: 0.6125\tBalanced Accuracy: 68.00%\t auROC: 0.751\t auPRC: 0.743\n",
      "\tRecall at 5%|10%|20% FDR: 3.4%|7.9%|33.8%\t Num Positives: 6401\t Num Negatives: 6399\n",
      "Validation Data:\n",
      "Loss: 0.6302\tBalanced Accuracy: 64.76%\t auROC: 0.710\t auPRC: 0.712\n",
      "\tRecall at 5%|10%|20% FDR: 2.1%|3.4%|26.7%\t Num Positives: 1617\t Num Negatives: 1583\n",
      "Training Data:\n",
      "Loss: 0.6126\tBalanced Accuracy: 67.07%\t auROC: 0.762\t auPRC: 0.753\n",
      "\tRecall at 5%|10%|20% FDR: 2.5%|8.7%|37.2%\t Num Positives: 6401\t Num Negatives: 6399\n",
      "Validation Data:\n",
      "Loss: 0.6294\tBalanced Accuracy: 64.15%\t auROC: 0.724\t auPRC: 0.725\n",
      "\tRecall at 5%|10%|20% FDR: 2.5%|4.6%|29.4%\t Num Positives: 1617\t Num Negatives: 1583\n",
      "Training Data:\n",
      "Loss: 0.5999\tBalanced Accuracy: 67.71%\t auROC: 0.779\t auPRC: 0.768\n",
      "\tRecall at 5%|10%|20% FDR: 0.7%|10.4%|40.9%\t Num Positives: 6401\t Num Negatives: 6399\n",
      "Validation Data:\n",
      "Loss: 0.6209\tBalanced Accuracy: 65.94%\t auROC: 0.741\t auPRC: 0.742\n",
      "\tRecall at 5%|10%|20% FDR: 2.4%|6.6%|35.4%\t Num Positives: 1617\t Num Negatives: 1583\n",
      "Training Data:\n",
      "Loss: 0.5798\tBalanced Accuracy: 71.49%\t auROC: 0.791\t auPRC: 0.780\n",
      "\tRecall at 5%|10%|20% FDR: 2.0%|12.1%|45.6%\t Num Positives: 6401\t Num Negatives: 6399\n",
      "Validation Data:\n",
      "Loss: 0.5998\tBalanced Accuracy: 68.20%\t auROC: 0.756\t auPRC: 0.756\n",
      "\tRecall at 5%|10%|20% FDR: 2.8%|7.5%|41.1%\t Num Positives: 1617\t Num Negatives: 1583\n",
      "Training Data:\n",
      "Loss: 0.5708\tBalanced Accuracy: 71.95%\t auROC: 0.803\t auPRC: 0.791\n",
      "\tRecall at 5%|10%|20% FDR: 2.3%|16.7%|50.5%\t Num Positives: 6401\t Num Negatives: 6399\n",
      "Validation Data:\n",
      "Loss: 0.5918\tBalanced Accuracy: 69.32%\t auROC: 0.769\t auPRC: 0.769\n",
      "\tRecall at 5%|10%|20% FDR: 3.2%|10.9%|45.0%\t Num Positives: 1617\t Num Negatives: 1583\n",
      "Training Data:\n",
      "Loss: 0.5574\tBalanced Accuracy: 74.03%\t auROC: 0.814\t auPRC: 0.801\n",
      "\tRecall at 5%|10%|20% FDR: 2.1%|20.1%|54.6%\t Num Positives: 6401\t Num Negatives: 6399\n",
      "Validation Data:\n",
      "Loss: 0.5774\tBalanced Accuracy: 70.91%\t auROC: 0.782\t auPRC: 0.781\n",
      "\tRecall at 5%|10%|20% FDR: 3.8%|16.0%|47.6%\t Num Positives: 1617\t Num Negatives: 1583\n",
      "Training Data:\n",
      "Loss: 0.5492\tBalanced Accuracy: 74.02%\t auROC: 0.822\t auPRC: 0.809\n",
      "\tRecall at 5%|10%|20% FDR: 2.9%|21.3%|57.4%\t Num Positives: 6401\t Num Negatives: 6399\n",
      "Validation Data:\n",
      "Loss: 0.5687\tBalanced Accuracy: 71.28%\t auROC: 0.792\t auPRC: 0.790\n",
      "\tRecall at 5%|10%|20% FDR: 4.3%|15.3%|51.0%\t Num Positives: 1617\t Num Negatives: 1583\n",
      "Training Data:\n",
      "Loss: 0.5349\tBalanced Accuracy: 75.78%\t auROC: 0.833\t auPRC: 0.819\n",
      "\tRecall at 5%|10%|20% FDR: 2.7%|26.6%|63.4%\t Num Positives: 6401\t Num Negatives: 6399\n",
      "Validation Data:\n",
      "Loss: 0.5560\tBalanced Accuracy: 72.95%\t auROC: 0.803\t auPRC: 0.801\n",
      "\tRecall at 5%|10%|20% FDR: 1.5%|21.0%|55.6%\t Num Positives: 1617\t Num Negatives: 1583\n",
      "Training Data:\n",
      "Loss: 0.5264\tBalanced Accuracy: 75.29%\t auROC: 0.844\t auPRC: 0.830\n",
      "\tRecall at 5%|10%|20% FDR: 2.6%|32.0%|68.4%\t Num Positives: 6401\t Num Negatives: 6399\n",
      "Validation Data:\n",
      "Loss: 0.5512\tBalanced Accuracy: 72.64%\t auROC: 0.814\t auPRC: 0.812\n",
      "\tRecall at 5%|10%|20% FDR: 7.4%|25.4%|58.8%\t Num Positives: 1617\t Num Negatives: 1583\n",
      "Training Data:\n",
      "Loss: 0.5113\tBalanced Accuracy: 77.82%\t auROC: 0.852\t auPRC: 0.838\n",
      "\tRecall at 5%|10%|20% FDR: 2.5%|35.0%|72.1%\t Num Positives: 6401\t Num Negatives: 6399\n",
      "Validation Data:\n",
      "Loss: 0.5343\tBalanced Accuracy: 74.99%\t auROC: 0.823\t auPRC: 0.820\n",
      "\tRecall at 5%|10%|20% FDR: 7.8%|28.6%|63.8%\t Num Positives: 1617\t Num Negatives: 1583\n",
      "Training Data:\n",
      "Loss: 0.5003\tBalanced Accuracy: 78.49%\t auROC: 0.860\t auPRC: 0.845\n",
      "\tRecall at 5%|10%|20% FDR: 2.6%|37.3%|74.8%\t Num Positives: 6401\t Num Negatives: 6399\n",
      "Validation Data:\n",
      "Loss: 0.5239\tBalanced Accuracy: 75.70%\t auROC: 0.831\t auPRC: 0.827\n",
      "\tRecall at 5%|10%|20% FDR: 8.9%|32.3%|67.3%\t Num Positives: 1617\t Num Negatives: 1583\n",
      "Training Data:\n",
      "Loss: 0.4868\tBalanced Accuracy: 79.30%\t auROC: 0.868\t auPRC: 0.853\n",
      "\tRecall at 5%|10%|20% FDR: 2.2%|39.7%|77.9%\t Num Positives: 6401\t Num Negatives: 6399\n",
      "Validation Data:\n",
      "Loss: 0.5126\tBalanced Accuracy: 75.83%\t auROC: 0.840\t auPRC: 0.835\n",
      "\tRecall at 5%|10%|20% FDR: 4.0%|33.8%|69.4%\t Num Positives: 1617\t Num Negatives: 1583\n",
      "Training Data:\n",
      "Loss: 0.4754\tBalanced Accuracy: 80.07%\t auROC: 0.876\t auPRC: 0.861\n",
      "\tRecall at 5%|10%|20% FDR: 2.2%|42.5%|80.7%\t Num Positives: 6401\t Num Negatives: 6399\n",
      "Validation Data:\n",
      "Loss: 0.5017\tBalanced Accuracy: 77.34%\t auROC: 0.848\t auPRC: 0.843\n",
      "\tRecall at 5%|10%|20% FDR: 3.8%|38.6%|70.4%\t Num Positives: 1617\t Num Negatives: 1583\n",
      "Training Data:\n",
      "Loss: 0.4636\tBalanced Accuracy: 80.70%\t auROC: 0.884\t auPRC: 0.869\n",
      "\tRecall at 5%|10%|20% FDR: 2.2%|47.4%|82.8%\t Num Positives: 6401\t Num Negatives: 6399\n",
      "Validation Data:\n",
      "Loss: 0.4924\tBalanced Accuracy: 77.36%\t auROC: 0.856\t auPRC: 0.851\n",
      "\tRecall at 5%|10%|20% FDR: 4.3%|44.7%|75.3%\t Num Positives: 1617\t Num Negatives: 1583\n"
     ]
    },
    {
     "name": "stdout",
     "output_type": "stream",
     "text": [
      "Training Data:\n",
      "Loss: 0.4522\tBalanced Accuracy: 81.62%\t auROC: 0.889\t auPRC: 0.874\n",
      "\tRecall at 5%|10%|20% FDR: 2.1%|50.9%|84.9%\t Num Positives: 6401\t Num Negatives: 6399\n",
      "Validation Data:\n",
      "Loss: 0.4802\tBalanced Accuracy: 79.00%\t auROC: 0.863\t auPRC: 0.856\n",
      "\tRecall at 5%|10%|20% FDR: 5.2%|46.3%|77.6%\t Num Positives: 1617\t Num Negatives: 1583\n",
      "Training Data:\n",
      "Loss: 0.4412\tBalanced Accuracy: 82.41%\t auROC: 0.897\t auPRC: 0.882\n",
      "\tRecall at 5%|10%|20% FDR: 15.1%|55.3%|87.0%\t Num Positives: 6401\t Num Negatives: 6399\n",
      "Validation Data:\n",
      "Loss: 0.4717\tBalanced Accuracy: 79.40%\t auROC: 0.872\t auPRC: 0.865\n",
      "\tRecall at 5%|10%|20% FDR: 5.4%|49.8%|80.8%\t Num Positives: 1617\t Num Negatives: 1583\n",
      "Training Data:\n",
      "Loss: 0.4312\tBalanced Accuracy: 83.38%\t auROC: 0.902\t auPRC: 0.886\n",
      "\tRecall at 5%|10%|20% FDR: 16.1%|58.0%|88.8%\t Num Positives: 6401\t Num Negatives: 6399\n",
      "Validation Data:\n",
      "Loss: 0.4592\tBalanced Accuracy: 80.61%\t auROC: 0.878\t auPRC: 0.870\n",
      "\tRecall at 5%|10%|20% FDR: 4.7%|50.5%|82.5%\t Num Positives: 1617\t Num Negatives: 1583\n",
      "Training Data:\n",
      "Loss: 0.4181\tBalanced Accuracy: 84.26%\t auROC: 0.908\t auPRC: 0.893\n",
      "\tRecall at 5%|10%|20% FDR: 19.7%|63.6%|90.6%\t Num Positives: 6401\t Num Negatives: 6399\n",
      "Validation Data:\n",
      "Loss: 0.4475\tBalanced Accuracy: 81.59%\t auROC: 0.886\t auPRC: 0.878\n",
      "\tRecall at 5%|10%|20% FDR: 5.6%|59.1%|85.2%\t Num Positives: 1617\t Num Negatives: 1583\n",
      "Training Data:\n",
      "Loss: 0.4074\tBalanced Accuracy: 85.02%\t auROC: 0.913\t auPRC: 0.899\n",
      "\tRecall at 5%|10%|20% FDR: 20.4%|66.7%|92.0%\t Num Positives: 6401\t Num Negatives: 6399\n",
      "Validation Data:\n",
      "Loss: 0.4368\tBalanced Accuracy: 82.34%\t auROC: 0.892\t auPRC: 0.884\n",
      "\tRecall at 5%|10%|20% FDR: 5.4%|62.7%|87.3%\t Num Positives: 1617\t Num Negatives: 1583\n",
      "Training Data:\n",
      "Loss: 0.4017\tBalanced Accuracy: 85.76%\t auROC: 0.917\t auPRC: 0.902\n",
      "\tRecall at 5%|10%|20% FDR: 23.7%|69.5%|92.9%\t Num Positives: 6401\t Num Negatives: 6399\n",
      "Validation Data:\n",
      "Loss: 0.4283\tBalanced Accuracy: 83.51%\t auROC: 0.897\t auPRC: 0.888\n",
      "\tRecall at 5%|10%|20% FDR: 16.0%|64.1%|87.9%\t Num Positives: 1617\t Num Negatives: 1583\n",
      "Training Data:\n",
      "Loss: 0.3896\tBalanced Accuracy: 86.27%\t auROC: 0.920\t auPRC: 0.907\n",
      "\tRecall at 5%|10%|20% FDR: 21.8%|72.3%|93.6%\t Num Positives: 6401\t Num Negatives: 6399\n",
      "Validation Data:\n",
      "Loss: 0.4180\tBalanced Accuracy: 83.97%\t auROC: 0.901\t auPRC: 0.893\n",
      "\tRecall at 5%|10%|20% FDR: 27.1%|67.0%|90.2%\t Num Positives: 1617\t Num Negatives: 1583\n",
      "Training Data:\n",
      "Loss: 0.3821\tBalanced Accuracy: 86.79%\t auROC: 0.923\t auPRC: 0.910\n",
      "\tRecall at 5%|10%|20% FDR: 28.8%|74.5%|94.1%\t Num Positives: 6401\t Num Negatives: 6399\n",
      "Validation Data:\n",
      "Loss: 0.4106\tBalanced Accuracy: 84.66%\t auROC: 0.904\t auPRC: 0.896\n",
      "\tRecall at 5%|10%|20% FDR: 32.2%|68.3%|91.0%\t Num Positives: 1617\t Num Negatives: 1583\n",
      "Training Data:\n",
      "Loss: 0.3758\tBalanced Accuracy: 87.19%\t auROC: 0.926\t auPRC: 0.913\n",
      "\tRecall at 5%|10%|20% FDR: 31.2%|76.6%|94.3%\t Num Positives: 6401\t Num Negatives: 6399\n",
      "Validation Data:\n",
      "Loss: 0.4040\tBalanced Accuracy: 85.18%\t auROC: 0.906\t auPRC: 0.900\n",
      "\tRecall at 5%|10%|20% FDR: 31.5%|71.5%|91.6%\t Num Positives: 1617\t Num Negatives: 1583\n",
      "Training Data:\n",
      "Loss: 0.3686\tBalanced Accuracy: 86.93%\t auROC: 0.928\t auPRC: 0.916\n",
      "\tRecall at 5%|10%|20% FDR: 38.1%|79.0%|94.4%\t Num Positives: 6401\t Num Negatives: 6399\n",
      "Validation Data:\n",
      "Loss: 0.3998\tBalanced Accuracy: 84.51%\t auROC: 0.909\t auPRC: 0.903\n",
      "\tRecall at 5%|10%|20% FDR: 39.2%|73.3%|92.1%\t Num Positives: 1617\t Num Negatives: 1583\n",
      "Training Data:\n",
      "Loss: 0.3622\tBalanced Accuracy: 87.31%\t auROC: 0.930\t auPRC: 0.918\n",
      "\tRecall at 5%|10%|20% FDR: 44.0%|80.9%|94.5%\t Num Positives: 6401\t Num Negatives: 6399\n",
      "Validation Data:\n",
      "Loss: 0.3932\tBalanced Accuracy: 85.28%\t auROC: 0.911\t auPRC: 0.905\n",
      "\tRecall at 5%|10%|20% FDR: 38.6%|74.2%|92.8%\t Num Positives: 1617\t Num Negatives: 1583\n",
      "Training Data:\n",
      "Loss: 0.3568\tBalanced Accuracy: 87.94%\t auROC: 0.931\t auPRC: 0.919\n",
      "\tRecall at 5%|10%|20% FDR: 44.4%|81.8%|94.6%\t Num Positives: 6401\t Num Negatives: 6399\n",
      "Validation Data:\n",
      "Loss: 0.3871\tBalanced Accuracy: 85.73%\t auROC: 0.912\t auPRC: 0.906\n",
      "\tRecall at 5%|10%|20% FDR: 39.8%|74.8%|92.9%\t Num Positives: 1617\t Num Negatives: 1583\n",
      "Training Data:\n",
      "Loss: 0.3518\tBalanced Accuracy: 87.67%\t auROC: 0.932\t auPRC: 0.920\n",
      "\tRecall at 5%|10%|20% FDR: 45.3%|82.3%|94.6%\t Num Positives: 6401\t Num Negatives: 6399\n",
      "Validation Data:\n",
      "Loss: 0.3839\tBalanced Accuracy: 85.71%\t auROC: 0.913\t auPRC: 0.907\n",
      "\tRecall at 5%|10%|20% FDR: 40.0%|75.2%|92.9%\t Num Positives: 1617\t Num Negatives: 1583\n",
      "Training Data:\n",
      "Loss: 0.3468\tBalanced Accuracy: 88.25%\t auROC: 0.934\t auPRC: 0.922\n",
      "\tRecall at 5%|10%|20% FDR: 47.3%|83.0%|94.6%\t Num Positives: 6401\t Num Negatives: 6399\n",
      "Validation Data:\n",
      "Loss: 0.3788\tBalanced Accuracy: 86.17%\t auROC: 0.914\t auPRC: 0.909\n",
      "\tRecall at 5%|10%|20% FDR: 44.0%|75.8%|93.0%\t Num Positives: 1617\t Num Negatives: 1583\n",
      "Training Data:\n",
      "Loss: 0.3427\tBalanced Accuracy: 88.40%\t auROC: 0.934\t auPRC: 0.923\n",
      "\tRecall at 5%|10%|20% FDR: 48.0%|83.3%|94.6%\t Num Positives: 6401\t Num Negatives: 6399\n",
      "Validation Data:\n",
      "Loss: 0.3748\tBalanced Accuracy: 86.35%\t auROC: 0.915\t auPRC: 0.909\n",
      "\tRecall at 5%|10%|20% FDR: 42.9%|76.6%|93.0%\t Num Positives: 1617\t Num Negatives: 1583\n",
      "Training Data:\n",
      "Loss: 0.3393\tBalanced Accuracy: 88.21%\t auROC: 0.936\t auPRC: 0.925\n",
      "\tRecall at 5%|10%|20% FDR: 48.3%|83.9%|94.6%\t Num Positives: 6401\t Num Negatives: 6399\n",
      "Validation Data:\n",
      "Loss: 0.3744\tBalanced Accuracy: 86.16%\t auROC: 0.916\t auPRC: 0.911\n",
      "\tRecall at 5%|10%|20% FDR: 45.4%|77.6%|93.1%\t Num Positives: 1617\t Num Negatives: 1583\n",
      "Training Data:\n",
      "Loss: 0.3362\tBalanced Accuracy: 88.97%\t auROC: 0.936\t auPRC: 0.926\n",
      "\tRecall at 5%|10%|20% FDR: 47.8%|84.5%|94.6%\t Num Positives: 6401\t Num Negatives: 6399\n",
      "Validation Data:\n",
      "Loss: 0.3686\tBalanced Accuracy: 87.06%\t auROC: 0.917\t auPRC: 0.911\n",
      "\tRecall at 5%|10%|20% FDR: 45.4%|77.7%|93.1%\t Num Positives: 1617\t Num Negatives: 1583\n",
      "Training Data:\n",
      "Loss: 0.3312\tBalanced Accuracy: 88.79%\t auROC: 0.937\t auPRC: 0.927\n",
      "\tRecall at 5%|10%|20% FDR: 52.1%|85.2%|94.6%\t Num Positives: 6401\t Num Negatives: 6399\n",
      "Validation Data:\n",
      "Loss: 0.3666\tBalanced Accuracy: 86.96%\t auROC: 0.917\t auPRC: 0.912\n",
      "\tRecall at 5%|10%|20% FDR: 48.4%|80.3%|93.1%\t Num Positives: 1617\t Num Negatives: 1583\n",
      "Training Data:\n",
      "Loss: 0.3280\tBalanced Accuracy: 89.17%\t auROC: 0.939\t auPRC: 0.928\n",
      "\tRecall at 5%|10%|20% FDR: 53.4%|85.7%|94.7%\t Num Positives: 6401\t Num Negatives: 6399\n",
      "Validation Data:\n",
      "Loss: 0.3632\tBalanced Accuracy: 87.23%\t auROC: 0.918\t auPRC: 0.913\n",
      "\tRecall at 5%|10%|20% FDR: 49.8%|81.1%|93.1%\t Num Positives: 1617\t Num Negatives: 1583\n",
      "Training Data:\n",
      "Loss: 0.3259\tBalanced Accuracy: 88.75%\t auROC: 0.939\t auPRC: 0.929\n",
      "\tRecall at 5%|10%|20% FDR: 54.7%|86.2%|94.7%\t Num Positives: 6401\t Num Negatives: 6399\n",
      "Validation Data:\n",
      "Loss: 0.3636\tBalanced Accuracy: 86.72%\t auROC: 0.919\t auPRC: 0.914\n",
      "\tRecall at 5%|10%|20% FDR: 49.8%|80.3%|93.1%\t Num Positives: 1617\t Num Negatives: 1583\n",
      "Training Data:\n",
      "Loss: 0.3235\tBalanced Accuracy: 88.78%\t auROC: 0.940\t auPRC: 0.930\n",
      "\tRecall at 5%|10%|20% FDR: 55.1%|86.7%|94.7%\t Num Positives: 6401\t Num Negatives: 6399\n",
      "Validation Data:\n",
      "Loss: 0.3622\tBalanced Accuracy: 86.75%\t auROC: 0.919\t auPRC: 0.914\n",
      "\tRecall at 5%|10%|20% FDR: 50.0%|80.6%|93.1%\t Num Positives: 1617\t Num Negatives: 1583\n",
      "Training Data:\n",
      "Loss: 0.3195\tBalanced Accuracy: 89.50%\t auROC: 0.940\t auPRC: 0.930\n",
      "\tRecall at 5%|10%|20% FDR: 55.0%|87.1%|94.8%\t Num Positives: 6401\t Num Negatives: 6399\n",
      "Validation Data:\n",
      "Loss: 0.3567\tBalanced Accuracy: 87.32%\t auROC: 0.920\t auPRC: 0.914\n",
      "\tRecall at 5%|10%|20% FDR: 48.7%|81.4%|93.1%\t Num Positives: 1617\t Num Negatives: 1583\n",
      "Training Data:\n",
      "Loss: 0.3173\tBalanced Accuracy: 89.42%\t auROC: 0.941\t auPRC: 0.932\n",
      "\tRecall at 5%|10%|20% FDR: 56.2%|88.3%|94.9%\t Num Positives: 6401\t Num Negatives: 6399\n",
      "Validation Data:\n",
      "Loss: 0.3561\tBalanced Accuracy: 87.21%\t auROC: 0.921\t auPRC: 0.916\n",
      "\tRecall at 5%|10%|20% FDR: 52.4%|81.1%|93.1%\t Num Positives: 1617\t Num Negatives: 1583\n",
      "Training Data:\n",
      "Loss: 0.3169\tBalanced Accuracy: 88.97%\t auROC: 0.941\t auPRC: 0.932\n",
      "\tRecall at 5%|10%|20% FDR: 55.8%|88.3%|94.8%\t Num Positives: 6401\t Num Negatives: 6399\n",
      "Validation Data:\n",
      "Loss: 0.3585\tBalanced Accuracy: 86.72%\t auROC: 0.920\t auPRC: 0.916\n",
      "\tRecall at 5%|10%|20% FDR: 49.8%|81.1%|93.1%\t Num Positives: 1617\t Num Negatives: 1583\n",
      "Training Data:\n",
      "Loss: 0.3124\tBalanced Accuracy: 89.73%\t auROC: 0.942\t auPRC: 0.933\n",
      "\tRecall at 5%|10%|20% FDR: 56.5%|88.7%|94.9%\t Num Positives: 6401\t Num Negatives: 6399\n",
      "Validation Data:\n",
      "Loss: 0.3521\tBalanced Accuracy: 87.48%\t auROC: 0.921\t auPRC: 0.916\n",
      "\tRecall at 5%|10%|20% FDR: 50.4%|81.9%|93.0%\t Num Positives: 1617\t Num Negatives: 1583\n"
     ]
    },
    {
     "name": "stdout",
     "output_type": "stream",
     "text": [
      "Training Data:\n",
      "Loss: 0.3107\tBalanced Accuracy: 89.92%\t auROC: 0.942\t auPRC: 0.933\n",
      "\tRecall at 5%|10%|20% FDR: 57.0%|89.1%|94.8%\t Num Positives: 6401\t Num Negatives: 6399\n",
      "Validation Data:\n",
      "Loss: 0.3504\tBalanced Accuracy: 87.91%\t auROC: 0.921\t auPRC: 0.916\n",
      "\tRecall at 5%|10%|20% FDR: 49.9%|82.1%|92.9%\t Num Positives: 1617\t Num Negatives: 1583\n",
      "Training Data:\n",
      "Loss: 0.3113\tBalanced Accuracy: 89.30%\t auROC: 0.943\t auPRC: 0.934\n",
      "\tRecall at 5%|10%|20% FDR: 57.7%|89.5%|94.9%\t Num Positives: 6401\t Num Negatives: 6399\n",
      "Validation Data:\n",
      "Loss: 0.3560\tBalanced Accuracy: 86.73%\t auROC: 0.921\t auPRC: 0.917\n",
      "\tRecall at 5%|10%|20% FDR: 51.0%|82.1%|93.0%\t Num Positives: 1617\t Num Negatives: 1583\n",
      "Training Data:\n",
      "Loss: 0.3068\tBalanced Accuracy: 89.91%\t auROC: 0.943\t auPRC: 0.934\n",
      "\tRecall at 5%|10%|20% FDR: 57.7%|89.7%|95.0%\t Num Positives: 6401\t Num Negatives: 6399\n",
      "Validation Data:\n",
      "Loss: 0.3503\tBalanced Accuracy: 87.52%\t auROC: 0.921\t auPRC: 0.917\n",
      "\tRecall at 5%|10%|20% FDR: 50.6%|81.6%|92.9%\t Num Positives: 1617\t Num Negatives: 1583\n",
      "Training Data:\n",
      "Loss: 0.3055\tBalanced Accuracy: 89.91%\t auROC: 0.944\t auPRC: 0.935\n",
      "\tRecall at 5%|10%|20% FDR: 58.4%|89.9%|95.0%\t Num Positives: 6401\t Num Negatives: 6399\n",
      "Validation Data:\n",
      "Loss: 0.3504\tBalanced Accuracy: 87.40%\t auROC: 0.922\t auPRC: 0.917\n",
      "\tRecall at 5%|10%|20% FDR: 50.9%|82.4%|92.9%\t Num Positives: 1617\t Num Negatives: 1583\n",
      "Training Data:\n",
      "Loss: 0.3035\tBalanced Accuracy: 90.09%\t auROC: 0.945\t auPRC: 0.935\n",
      "\tRecall at 5%|10%|20% FDR: 58.1%|90.2%|95.1%\t Num Positives: 6401\t Num Negatives: 6399\n",
      "Validation Data:\n",
      "Loss: 0.3471\tBalanced Accuracy: 88.01%\t auROC: 0.922\t auPRC: 0.918\n",
      "\tRecall at 5%|10%|20% FDR: 51.6%|81.9%|93.1%\t Num Positives: 1617\t Num Negatives: 1583\n",
      "Training Data:\n",
      "Loss: 0.3031\tBalanced Accuracy: 89.95%\t auROC: 0.945\t auPRC: 0.935\n",
      "\tRecall at 5%|10%|20% FDR: 58.9%|90.4%|95.2%\t Num Positives: 6401\t Num Negatives: 6399\n",
      "Validation Data:\n",
      "Loss: 0.3505\tBalanced Accuracy: 87.09%\t auROC: 0.922\t auPRC: 0.917\n",
      "\tRecall at 5%|10%|20% FDR: 51.1%|82.1%|93.0%\t Num Positives: 1617\t Num Negatives: 1583\n",
      "Training Data:\n",
      "Loss: 0.3025\tBalanced Accuracy: 89.89%\t auROC: 0.946\t auPRC: 0.937\n",
      "\tRecall at 5%|10%|20% FDR: 60.7%|90.8%|95.4%\t Num Positives: 6401\t Num Negatives: 6399\n",
      "Validation Data:\n",
      "Loss: 0.3513\tBalanced Accuracy: 86.88%\t auROC: 0.922\t auPRC: 0.918\n",
      "\tRecall at 5%|10%|20% FDR: 52.1%|82.1%|93.2%\t Num Positives: 1617\t Num Negatives: 1583\n",
      "Training Data:\n",
      "Loss: 0.2998\tBalanced Accuracy: 90.30%\t auROC: 0.946\t auPRC: 0.936\n",
      "\tRecall at 5%|10%|20% FDR: 60.1%|90.8%|95.3%\t Num Positives: 6401\t Num Negatives: 6399\n",
      "Validation Data:\n",
      "Loss: 0.3456\tBalanced Accuracy: 88.22%\t auROC: 0.922\t auPRC: 0.917\n",
      "\tRecall at 5%|10%|20% FDR: 50.8%|82.3%|93.1%\t Num Positives: 1617\t Num Negatives: 1583\n",
      "Training Data:\n",
      "Loss: 0.2981\tBalanced Accuracy: 90.40%\t auROC: 0.946\t auPRC: 0.937\n",
      "\tRecall at 5%|10%|20% FDR: 60.1%|91.0%|95.4%\t Num Positives: 6401\t Num Negatives: 6399\n",
      "Validation Data:\n",
      "Loss: 0.3471\tBalanced Accuracy: 87.77%\t auROC: 0.922\t auPRC: 0.917\n",
      "\tRecall at 5%|10%|20% FDR: 51.1%|82.0%|93.1%\t Num Positives: 1617\t Num Negatives: 1583\n",
      "Training Data:\n",
      "Loss: 0.2973\tBalanced Accuracy: 90.47%\t auROC: 0.946\t auPRC: 0.937\n",
      "\tRecall at 5%|10%|20% FDR: 60.6%|91.0%|95.4%\t Num Positives: 6401\t Num Negatives: 6399\n",
      "Validation Data:\n",
      "Loss: 0.3450\tBalanced Accuracy: 88.28%\t auROC: 0.922\t auPRC: 0.918\n",
      "\tRecall at 5%|10%|20% FDR: 51.2%|82.1%|93.2%\t Num Positives: 1617\t Num Negatives: 1583\n",
      "Training Data:\n",
      "Loss: 0.2957\tBalanced Accuracy: 90.50%\t auROC: 0.947\t auPRC: 0.937\n",
      "\tRecall at 5%|10%|20% FDR: 62.7%|91.1%|95.5%\t Num Positives: 6401\t Num Negatives: 6399\n",
      "Validation Data:\n",
      "Loss: 0.3449\tBalanced Accuracy: 88.23%\t auROC: 0.922\t auPRC: 0.918\n",
      "\tRecall at 5%|10%|20% FDR: 52.2%|82.2%|93.2%\t Num Positives: 1617\t Num Negatives: 1583\n",
      "Training Data:\n",
      "Loss: 0.3029\tBalanced Accuracy: 90.10%\t auROC: 0.946\t auPRC: 0.937\n",
      "\tRecall at 5%|10%|20% FDR: 62.7%|91.1%|95.4%\t Num Positives: 6401\t Num Negatives: 6399\n",
      "Validation Data:\n",
      "Loss: 0.3486\tBalanced Accuracy: 88.57%\t auROC: 0.922\t auPRC: 0.917\n",
      "\tRecall at 5%|10%|20% FDR: 51.2%|82.5%|93.1%\t Num Positives: 1617\t Num Negatives: 1583\n",
      "Training Data:\n",
      "Loss: 0.2937\tBalanced Accuracy: 90.55%\t auROC: 0.947\t auPRC: 0.938\n",
      "\tRecall at 5%|10%|20% FDR: 63.0%|91.1%|95.5%\t Num Positives: 6401\t Num Negatives: 6399\n",
      "Validation Data:\n",
      "Loss: 0.3447\tBalanced Accuracy: 88.32%\t auROC: 0.922\t auPRC: 0.918\n",
      "\tRecall at 5%|10%|20% FDR: 51.8%|82.3%|93.2%\t Num Positives: 1617\t Num Negatives: 1583\n",
      "Training Data:\n",
      "Loss: 0.2972\tBalanced Accuracy: 90.41%\t auROC: 0.947\t auPRC: 0.938\n",
      "\tRecall at 5%|10%|20% FDR: 62.1%|91.2%|95.5%\t Num Positives: 6401\t Num Negatives: 6399\n",
      "Validation Data:\n",
      "Loss: 0.3457\tBalanced Accuracy: 88.37%\t auROC: 0.922\t auPRC: 0.918\n",
      "\tRecall at 5%|10%|20% FDR: 52.0%|82.6%|93.2%\t Num Positives: 1617\t Num Negatives: 1583\n",
      "Training Data:\n",
      "Loss: 0.2946\tBalanced Accuracy: 90.60%\t auROC: 0.948\t auPRC: 0.938\n",
      "\tRecall at 5%|10%|20% FDR: 63.4%|91.3%|95.5%\t Num Positives: 6401\t Num Negatives: 6399\n",
      "Validation Data:\n",
      "Loss: 0.3450\tBalanced Accuracy: 88.56%\t auROC: 0.922\t auPRC: 0.918\n",
      "\tRecall at 5%|10%|20% FDR: 51.3%|82.6%|93.3%\t Num Positives: 1617\t Num Negatives: 1583\n",
      "Training Data:\n",
      "Loss: 0.2911\tBalanced Accuracy: 90.73%\t auROC: 0.948\t auPRC: 0.939\n",
      "\tRecall at 5%|10%|20% FDR: 64.0%|91.5%|95.4%\t Num Positives: 6401\t Num Negatives: 6399\n",
      "Validation Data:\n",
      "Loss: 0.3444\tBalanced Accuracy: 88.41%\t auROC: 0.922\t auPRC: 0.918\n",
      "\tRecall at 5%|10%|20% FDR: 51.9%|82.4%|93.3%\t Num Positives: 1617\t Num Negatives: 1583\n",
      "Training Data:\n",
      "Loss: 0.2898\tBalanced Accuracy: 90.70%\t auROC: 0.948\t auPRC: 0.939\n",
      "\tRecall at 5%|10%|20% FDR: 64.2%|91.7%|95.5%\t Num Positives: 6401\t Num Negatives: 6399\n",
      "Validation Data:\n",
      "Loss: 0.3451\tBalanced Accuracy: 88.11%\t auROC: 0.922\t auPRC: 0.918\n",
      "\tRecall at 5%|10%|20% FDR: 51.9%|82.3%|93.3%\t Num Positives: 1617\t Num Negatives: 1583\n",
      "Training Data:\n",
      "Loss: 0.2898\tBalanced Accuracy: 90.64%\t auROC: 0.948\t auPRC: 0.939\n",
      "\tRecall at 5%|10%|20% FDR: 63.8%|91.5%|95.5%\t Num Positives: 6401\t Num Negatives: 6399\n",
      "Validation Data:\n",
      "Loss: 0.3444\tBalanced Accuracy: 88.57%\t auROC: 0.922\t auPRC: 0.918\n",
      "\tRecall at 5%|10%|20% FDR: 51.6%|82.6%|93.4%\t Num Positives: 1617\t Num Negatives: 1583\n",
      "Training Data:\n",
      "Loss: 0.2888\tBalanced Accuracy: 90.49%\t auROC: 0.949\t auPRC: 0.940\n",
      "\tRecall at 5%|10%|20% FDR: 65.3%|91.5%|95.6%\t Num Positives: 6401\t Num Negatives: 6399\n",
      "Validation Data:\n",
      "Loss: 0.3478\tBalanced Accuracy: 87.43%\t auROC: 0.922\t auPRC: 0.918\n",
      "\tRecall at 5%|10%|20% FDR: 51.3%|82.7%|93.3%\t Num Positives: 1617\t Num Negatives: 1583\n",
      "Training Data:\n",
      "Loss: 0.2876\tBalanced Accuracy: 90.71%\t auROC: 0.949\t auPRC: 0.940\n",
      "\tRecall at 5%|10%|20% FDR: 65.8%|91.6%|95.6%\t Num Positives: 6401\t Num Negatives: 6399\n",
      "Validation Data:\n",
      "Loss: 0.3450\tBalanced Accuracy: 88.14%\t auROC: 0.922\t auPRC: 0.918\n",
      "\tRecall at 5%|10%|20% FDR: 52.4%|82.6%|93.3%\t Num Positives: 1617\t Num Negatives: 1583\n",
      "Training Data:\n",
      "Loss: 0.2869\tBalanced Accuracy: 90.58%\t auROC: 0.950\t auPRC: 0.941\n",
      "\tRecall at 5%|10%|20% FDR: 64.9%|91.7%|95.7%\t Num Positives: 6401\t Num Negatives: 6399\n",
      "Validation Data:\n",
      "Loss: 0.3467\tBalanced Accuracy: 87.52%\t auROC: 0.922\t auPRC: 0.918\n",
      "\tRecall at 5%|10%|20% FDR: 51.9%|82.9%|93.2%\t Num Positives: 1617\t Num Negatives: 1583\n",
      "Training Data:\n",
      "Loss: 0.2861\tBalanced Accuracy: 90.66%\t auROC: 0.950\t auPRC: 0.941\n",
      "\tRecall at 5%|10%|20% FDR: 64.6%|91.8%|95.7%\t Num Positives: 6401\t Num Negatives: 6399\n",
      "Validation Data:\n",
      "Loss: 0.3469\tBalanced Accuracy: 87.65%\t auROC: 0.922\t auPRC: 0.918\n",
      "\tRecall at 5%|10%|20% FDR: 51.1%|82.7%|93.3%\t Num Positives: 1617\t Num Negatives: 1583\n",
      "Training Data:\n",
      "Loss: 0.2858\tBalanced Accuracy: 90.76%\t auROC: 0.950\t auPRC: 0.941\n",
      "\tRecall at 5%|10%|20% FDR: 64.8%|91.6%|95.7%\t Num Positives: 6401\t Num Negatives: 6399\n",
      "Validation Data:\n",
      "Loss: 0.3451\tBalanced Accuracy: 88.29%\t auROC: 0.922\t auPRC: 0.918\n",
      "\tRecall at 5%|10%|20% FDR: 51.0%|83.4%|93.3%\t Num Positives: 1617\t Num Negatives: 1583\n"
     ]
    },
    {
     "data": {
      "image/png": "[encoded data removed]",
      "text/plain": [
       "<Figure size 720x288 with 1 Axes>"
      ]
     },
     "metadata": {},
     "output_type": "display_data"
    },
    {
     "name": "stdout",
     "output_type": "stream",
     "text": [
      "Loss: 0.3302\tBalanced Accuracy: 89.11%\t auROC: 0.929\t auPRC: 0.920\n",
      "\tRecall at 5%|10%|20% FDR: 23.7%|85.9%|94.0%\t Num Positives: 1982\t Num Negatives: 2018\n"
     ]
    },
    {
     "data": {
      "image/png": "[encoded data removed]",
      "text/plain": [
       "<Figure size 1440x216 with 2 Axes>"
      ]
     },
     "metadata": {},
     "output_type": "display_data"
    },
    {
     "ename": "TypeError",
     "evalue": "plot_ism() got an unexpected keyword argument 'min_val'",
     "output_type": "error",
     "traceback": [
      "\u001b[0;31m---------------------------------------------------------------------------\u001b[0m",
      "\u001b[0;31mTypeError\u001b[0m                                 Traceback (most recent call last)",
      "\u001b[0;32m<ipython-input-18-c7336887fcbd>\u001b[0m in \u001b[0;36m<module>\u001b[0;34m()\u001b[0m\n\u001b[0;32m----> 1\u001b[0;31m \u001b[0mpos_X\u001b[0m\u001b[0;34m,\u001b[0m \u001b[0mneg_X\u001b[0m\u001b[0;34m,\u001b[0m \u001b[0mism_pos\u001b[0m\u001b[0;34m,\u001b[0m \u001b[0mism_neg\u001b[0m\u001b[0;34m,\u001b[0m \u001b[0mgradinput_pos\u001b[0m\u001b[0;34m,\u001b[0m \u001b[0mgradinput_neg\u001b[0m\u001b[0;34m,\u001b[0m \u001b[0mdl_pos\u001b[0m\u001b[0;34m,\u001b[0m \u001b[0mdl_neg\u001b[0m\u001b[0;34m=\u001b[0m\u001b[0manalyze\u001b[0m\u001b[0;34m(\u001b[0m\u001b[0mtal1_model\u001b[0m\u001b[0;34m,\u001b[0m\u001b[0mtal1_data\u001b[0m\u001b[0;34m,\u001b[0m\u001b[0;36m1\u001b[0m\u001b[0;34m,\u001b[0m\u001b[0;36m1\u001b[0m\u001b[0;34m)\u001b[0m\u001b[0;34m\u001b[0m\u001b[0m\n\u001b[0m",
      "\u001b[0;32m<ipython-input-12-2db5dc7fa37d>\u001b[0m in \u001b[0;36manalyze\u001b[0;34m(model, data, pos_index, neg_index)\u001b[0m\n\u001b[1;32m      5\u001b[0m     \u001b[0mcompute_performance\u001b[0m\u001b[0;34m(\u001b[0m\u001b[0mmodel\u001b[0m\u001b[0;34m,\u001b[0m\u001b[0mdata\u001b[0m\u001b[0;34m)\u001b[0m\u001b[0;34m\u001b[0m\u001b[0m\n\u001b[1;32m      6\u001b[0m     \u001b[0mpos_X\u001b[0m\u001b[0;34m,\u001b[0m\u001b[0mneg_X\u001b[0m\u001b[0;34m=\u001b[0m\u001b[0mextract_pos_and_neg_validation_sample\u001b[0m\u001b[0;34m(\u001b[0m\u001b[0mdata\u001b[0m\u001b[0;34m,\u001b[0m\u001b[0mpos_index\u001b[0m\u001b[0;34m,\u001b[0m\u001b[0mneg_index\u001b[0m\u001b[0;34m)\u001b[0m\u001b[0;34m\u001b[0m\u001b[0m\n\u001b[0;32m----> 7\u001b[0;31m     \u001b[0mism_pos\u001b[0m\u001b[0;34m,\u001b[0m\u001b[0mism_neg\u001b[0m\u001b[0;34m,\u001b[0m \u001b[0mgradinput_pos\u001b[0m\u001b[0;34m,\u001b[0m \u001b[0mgradinput_neg\u001b[0m\u001b[0;34m,\u001b[0m \u001b[0mdl_pos\u001b[0m\u001b[0;34m,\u001b[0m\u001b[0mdl_neg\u001b[0m\u001b[0;34m=\u001b[0m\u001b[0minterpret\u001b[0m\u001b[0;34m(\u001b[0m\u001b[0mmodel\u001b[0m\u001b[0;34m,\u001b[0m\u001b[0mpos_X\u001b[0m\u001b[0;34m,\u001b[0m\u001b[0mneg_X\u001b[0m\u001b[0;34m,\u001b[0m\u001b[0mdata\u001b[0m\u001b[0;34m)\u001b[0m\u001b[0;34m\u001b[0m\u001b[0m\n\u001b[0m\u001b[1;32m      8\u001b[0m     \u001b[0;32mreturn\u001b[0m \u001b[0mpos_X\u001b[0m\u001b[0;34m,\u001b[0m \u001b[0mneg_X\u001b[0m\u001b[0;34m,\u001b[0m \u001b[0mism_pos\u001b[0m\u001b[0;34m,\u001b[0m \u001b[0mism_neg\u001b[0m\u001b[0;34m,\u001b[0m \u001b[0mgradinput_pos\u001b[0m\u001b[0;34m,\u001b[0m \u001b[0mgradinput_neg\u001b[0m\u001b[0;34m,\u001b[0m \u001b[0mdl_pos\u001b[0m\u001b[0;34m,\u001b[0m\u001b[0mdl_neg\u001b[0m\u001b[0;34m\u001b[0m\u001b[0m\n",
      "\u001b[0;32m<ipython-input-11-1ade12c1e3e6>\u001b[0m in \u001b[0;36minterpret\u001b[0;34m(model, pos_X, neg_X, data)\u001b[0m\n\u001b[1;32m      1\u001b[0m \u001b[0;32mdef\u001b[0m \u001b[0minterpret\u001b[0m\u001b[0;34m(\u001b[0m\u001b[0mmodel\u001b[0m\u001b[0;34m,\u001b[0m\u001b[0mpos_X\u001b[0m\u001b[0;34m,\u001b[0m\u001b[0mneg_X\u001b[0m\u001b[0;34m,\u001b[0m\u001b[0mdata\u001b[0m\u001b[0;34m)\u001b[0m\u001b[0;34m:\u001b[0m\u001b[0;34m\u001b[0m\u001b[0m\n\u001b[1;32m      2\u001b[0m     \u001b[0mvisualize_motif_scores\u001b[0m\u001b[0;34m(\u001b[0m\u001b[0mmodel\u001b[0m\u001b[0;34m,\u001b[0m\u001b[0mpos_X\u001b[0m\u001b[0;34m,\u001b[0m\u001b[0mneg_X\u001b[0m\u001b[0;34m,\u001b[0m\u001b[0mdata\u001b[0m\u001b[0;34m)\u001b[0m\u001b[0;34m\u001b[0m\u001b[0m\n\u001b[0;32m----> 3\u001b[0;31m     \u001b[0mism_pos\u001b[0m\u001b[0;34m,\u001b[0m\u001b[0mism_neg\u001b[0m\u001b[0;34m=\u001b[0m\u001b[0mperform_ism\u001b[0m\u001b[0;34m(\u001b[0m\u001b[0mmodel\u001b[0m\u001b[0;34m,\u001b[0m\u001b[0mpos_X\u001b[0m\u001b[0;34m,\u001b[0m\u001b[0mneg_X\u001b[0m\u001b[0;34m,\u001b[0m\u001b[0mdata\u001b[0m\u001b[0;34m)\u001b[0m\u001b[0;34m\u001b[0m\u001b[0m\n\u001b[0m\u001b[1;32m      4\u001b[0m     \u001b[0mgradinput_pos\u001b[0m\u001b[0;34m,\u001b[0m\u001b[0mgradinput_neg\u001b[0m\u001b[0;34m=\u001b[0m\u001b[0mcompute_gradxinput_scores\u001b[0m\u001b[0;34m(\u001b[0m\u001b[0mmodel\u001b[0m\u001b[0;34m,\u001b[0m\u001b[0mpos_X\u001b[0m\u001b[0;34m,\u001b[0m\u001b[0mneg_X\u001b[0m\u001b[0;34m,\u001b[0m\u001b[0mdata\u001b[0m\u001b[0;34m)\u001b[0m\u001b[0;34m\u001b[0m\u001b[0m\n\u001b[1;32m      5\u001b[0m     \u001b[0mdl_pos\u001b[0m\u001b[0;34m,\u001b[0m\u001b[0mdl_neg\u001b[0m\u001b[0;34m=\u001b[0m\u001b[0mcompute_deeplift_scores\u001b[0m\u001b[0;34m(\u001b[0m\u001b[0mmodel\u001b[0m\u001b[0;34m,\u001b[0m\u001b[0mpos_X\u001b[0m\u001b[0;34m,\u001b[0m\u001b[0mneg_X\u001b[0m\u001b[0;34m,\u001b[0m\u001b[0mdata\u001b[0m\u001b[0;34m)\u001b[0m\u001b[0;34m\u001b[0m\u001b[0m\n",
      "\u001b[0;32m<ipython-input-8-6ac0540aeeb5>\u001b[0m in \u001b[0;36mperform_ism\u001b[0;34m(model, pos_X, neg_X, data)\u001b[0m\n\u001b[1;32m      6\u001b[0m     \u001b[0mmin_val\u001b[0m\u001b[0;34m=\u001b[0m\u001b[0mmin\u001b[0m\u001b[0;34m(\u001b[0m\u001b[0;34m[\u001b[0m\u001b[0mnp\u001b[0m\u001b[0;34m.\u001b[0m\u001b[0mamin\u001b[0m\u001b[0;34m(\u001b[0m\u001b[0mism_pos\u001b[0m\u001b[0;34m)\u001b[0m\u001b[0;34m,\u001b[0m\u001b[0mnp\u001b[0m\u001b[0;34m.\u001b[0m\u001b[0mamin\u001b[0m\u001b[0;34m(\u001b[0m\u001b[0mism_neg\u001b[0m\u001b[0;34m)\u001b[0m\u001b[0;34m]\u001b[0m\u001b[0;34m)\u001b[0m\u001b[0;34m\u001b[0m\u001b[0m\n\u001b[1;32m      7\u001b[0m     \u001b[0mmax_val\u001b[0m\u001b[0;34m=\u001b[0m\u001b[0mmax\u001b[0m\u001b[0;34m(\u001b[0m\u001b[0;34m[\u001b[0m\u001b[0mnp\u001b[0m\u001b[0;34m.\u001b[0m\u001b[0mamax\u001b[0m\u001b[0;34m(\u001b[0m\u001b[0mism_pos\u001b[0m\u001b[0;34m)\u001b[0m\u001b[0;34m,\u001b[0m\u001b[0mnp\u001b[0m\u001b[0;34m.\u001b[0m\u001b[0mamax\u001b[0m\u001b[0;34m(\u001b[0m\u001b[0mism_neg\u001b[0m\u001b[0;34m)\u001b[0m\u001b[0;34m]\u001b[0m\u001b[0;34m)\u001b[0m\u001b[0;34m\u001b[0m\u001b[0m\n\u001b[0;32m----> 8\u001b[0;31m     \u001b[0mplot_ism\u001b[0m\u001b[0;34m(\u001b[0m\u001b[0mism_pos\u001b[0m\u001b[0;34m,\u001b[0m\u001b[0;34m\"Positive Example\"\u001b[0m\u001b[0;34m,\u001b[0m\u001b[0mmin_val\u001b[0m\u001b[0;34m=\u001b[0m\u001b[0mmin_val\u001b[0m\u001b[0;34m,\u001b[0m\u001b[0mmax_val\u001b[0m\u001b[0;34m=\u001b[0m\u001b[0mmax_val\u001b[0m\u001b[0;34m)\u001b[0m\u001b[0;34m\u001b[0m\u001b[0m\n\u001b[0m\u001b[1;32m      9\u001b[0m     \u001b[0mplot_ism\u001b[0m\u001b[0;34m(\u001b[0m\u001b[0mism_neg\u001b[0m\u001b[0;34m,\u001b[0m\u001b[0;34m\"Negative Example\"\u001b[0m\u001b[0;34m,\u001b[0m\u001b[0mmin_val\u001b[0m\u001b[0;34m=\u001b[0m\u001b[0mmin_val\u001b[0m\u001b[0;34m,\u001b[0m\u001b[0mmax_val\u001b[0m\u001b[0;34m=\u001b[0m\u001b[0mmax_val\u001b[0m\u001b[0;34m)\u001b[0m\u001b[0;34m\u001b[0m\u001b[0m\n\u001b[1;32m     10\u001b[0m     \u001b[0;32mreturn\u001b[0m \u001b[0mism_pos\u001b[0m\u001b[0;34m,\u001b[0m \u001b[0mism_neg\u001b[0m\u001b[0;34m\u001b[0m\u001b[0m\n",
      "\u001b[0;31mTypeError\u001b[0m: plot_ism() got an unexpected keyword argument 'min_val'"
     ]
    }
   ],
   "source": [
    "pos_X, neg_X, ism_pos, ism_neg, gradinput_pos, gradinput_neg, dl_pos, dl_neg=analyze(tal1_model,tal1_data,1,1)"
   ]
  },
  {
   "cell_type": "markdown",
   "metadata": {},
   "source": [
    "Let's zoom in to the portion of the deepLIFT track with the strongest signal:"
   ]
  },
  {
   "cell_type": "code",
   "execution_count": null,
   "metadata": {},
   "outputs": [],
   "source": [
    "plot_seq_importance(dl_pos,pos_X,xlim=(220,275),title=\"Positive Zoomed\")\n",
    "plot_seq_importance(dl_neg,neg_X,xlim=(220,275),title=\"Negative Zoomed\")"
   ]
  },
  {
   "cell_type": "markdown",
   "metadata": {},
   "source": [
    "## Homotypic motif density detection <a name='5'>\n",
    "<a href=#outline>Home</a>"
   ]
  },
  {
   "cell_type": "code",
   "execution_count": null,
   "metadata": {},
   "outputs": [],
   "source": [
    "#Define simulation parameters \n",
    "density_detection_parameters={\n",
    "    \"motif_name\": \"TAL1_known4\",\n",
    "    \"seq_length\": 500,\n",
    "    \"neg_counts\":[0,2],\n",
    "    \"pos_counts\":[3,5],\n",
    "    \"num_pos\": 10000,\n",
    "    \"num_neg\": 10000,\n",
    "    \"GC_fraction\":0.4\n",
    "}\n",
    "\n",
    "#Get simulation data\n",
    "density_detection_data=get_simulation_data(\"simulate_motif_counting\",\n",
    "                               density_detection_parameters,\n",
    "                               validation_set_size=3200,test_set_size=4000)\n",
    "\n"
   ]
  },
  {
   "cell_type": "code",
   "execution_count": null,
   "metadata": {},
   "outputs": [],
   "source": [
    "#Define the optimal model architecture in keras (Refer to Primer Tutorial 2)\n",
    "density_detection_model=Sequential() \n",
    "density_detection_model.add(Conv2D(filters=10,kernel_size=(1,15),input_shape=density_detection_data.X_train.shape[1::]))\n",
    "density_detection_model.add(Activation('relu'))\n",
    "density_detection_model.add(MaxPooling2D(pool_size=(1,35)))\n",
    "density_detection_model.add(Flatten())\n",
    "density_detection_model.add(Dense(1))\n",
    "density_detection_model.add(Activation(\"sigmoid\"))\n",
    "\n",
    "##compile the model, specifying the Adam optimizer, and binary cross-entropy loss. \n",
    "density_detection_model.compile(optimizer='adam',\n",
    "                               loss='binary_crossentropy')\n"
   ]
  },
  {
   "cell_type": "code",
   "execution_count": null,
   "metadata": {},
   "outputs": [],
   "source": [
    "pos_X, neg_X, ism_pos, ism_neg, gradinput_pos, gradinput_neg, dl_pos, dl_neg=analyze(density_detection_model,density_detection_data,1,1)"
   ]
  },
  {
   "cell_type": "code",
   "execution_count": null,
   "metadata": {},
   "outputs": [],
   "source": [
    "plot_seq_importance(dl_pos,pos_X,xlim=(200,350),title=\"Positive, Zoomed\")\n",
    "plot_seq_importance(dl_neg,neg_X,xlim=(200,350),title=\"Negative, Zoomed\")"
   ]
  },
  {
   "cell_type": "markdown",
   "metadata": {},
   "source": [
    "## Homotypic motif density localization <a name='6'>\n",
    "<a href=#outline>Home</a>"
   ]
  },
  {
   "cell_type": "code",
   "execution_count": null,
   "metadata": {},
   "outputs": [],
   "source": [
    "#Define simulation parameters \n",
    "density_localization_parameters = {\n",
    "    \"motif_name\": \"TAL1_known4\",\n",
    "    \"seq_length\": 1000,\n",
    "    \"center_size\": 150,\n",
    "    \"min_motif_counts\": 2,\n",
    "    \"max_motif_counts\": 4, \n",
    "    \"num_pos\": 10000,\n",
    "    \"num_neg\": 10000,\n",
    "    \"GC_fraction\": 0.4}\n",
    "\n",
    "#Get simulation data\n",
    "density_localization_data=get_simulation_data(\"simulate_motif_density_localization\",\n",
    "                               density_localization_parameters,\n",
    "                               validation_set_size=3200,test_set_size=4000)\n",
    "\n"
   ]
  },
  {
   "cell_type": "code",
   "execution_count": null,
   "metadata": {},
   "outputs": [],
   "source": [
    "#Define the optimal model architecture in keras (Refer to Primer Tutorial 2)\n",
    "density_localization_model=Sequential() \n",
    "density_localization_model.add(Conv2D(filters=5,kernel_size=(1,10),input_shape=density_localization_data.X_train.shape[1::]))\n",
    "density_localization_model.add(Activation('relu'))\n",
    "density_localization_model.add(MaxPooling2D(pool_size=(1,10)))\n",
    "density_localization_model.add(Flatten())\n",
    "density_localization_model.add(Dense(1))\n",
    "density_localization_model.add(Activation(\"sigmoid\"))\n",
    "\n",
    "##compile the model, specifying the Adam optimizer, and binary cross-entropy loss. \n",
    "density_localization_model.compile(optimizer='adam',\n",
    "                               loss='binary_crossentropy')"
   ]
  },
  {
   "cell_type": "code",
   "execution_count": null,
   "metadata": {},
   "outputs": [],
   "source": [
    "pos_X, neg_X, ism_pos, ism_neg, gradinput_pos, gradinput_neg, dl_pos, dl_neg=analyze(density_localization_model,density_localization_data,1,1)"
   ]
  },
  {
   "cell_type": "code",
   "execution_count": null,
   "metadata": {},
   "outputs": [],
   "source": [
    "plot_seq_importance(dl_pos,pos_X,xlim=(220,275),title=\"Positive\")\n",
    "plot_seq_importance(dl_neg,neg_X,xlim=(220,275),title=\"Negative\")"
   ]
  },
  {
   "cell_type": "markdown",
   "metadata": {},
   "source": [
    "## Multiple motifs (multi-task)<a name='7'>\n",
    "<a href=#outline>Home</a>"
   ]
  },
  {
   "cell_type": "code",
   "execution_count": null,
   "metadata": {},
   "outputs": [],
   "source": [
    "#Define simulation parameters \n",
    "multi_motif_parameters = {\n",
    "    \"motif_names\": [\"CTCF_known1\",\"ZNF143_known2\",\"SIX5_known1\"],\n",
    "    \"seq_length\": 500,\n",
    "    \"min_num_motifs\": 0,\n",
    "    \"max_num_motifs\": 1, \n",
    "    \"num_seqs\": 20000,\n",
    "    \"GC_fraction\": 0.4}\n",
    "\n",
    "#Get simulation data\n",
    "multi_motif_data=get_simulation_data(\"simulate_multi_motif_embedding\",\n",
    "                               multi_motif_parameters,\n",
    "                               validation_set_size=3200,test_set_size=4000)\n",
    "\n"
   ]
  },
  {
   "cell_type": "code",
   "execution_count": null,
   "metadata": {},
   "outputs": [],
   "source": [
    "#Define the optimal model architecture in keras (Refer to Primer Tutorial 2)\n",
    "multi_motif_model=Sequential() \n",
    "multi_motif_model.add(Conv2D(filters=20,kernel_size=(1,20),input_shape=multi_motif_data.X_train.shape[1::]))\n",
    "multi_motif_model.add(Activation('relu'))\n",
    "multi_motif_model.add(MaxPooling2D(pool_size=(1,10)))\n",
    "multi_motif_model.add(Flatten())\n",
    "multi_motif_model.add(Dense(3))\n",
    "multi_motif_model.add(Activation(\"sigmoid\"))\n",
    "\n",
    "##compile the model, specifying the Adam optimizer, and binary cross-entropy loss. \n",
    "multi_motif_model.compile(optimizer='adam',\n",
    "                               loss='binary_crossentropy')"
   ]
  },
  {
   "cell_type": "code",
   "execution_count": null,
   "metadata": {},
   "outputs": [],
   "source": [
    "pos_X, neg_X, ism_pos, ism_neg, gradinput_pos, gradinput_neg, dl_pos, dl_neg=analyze(multi_motif_model, multi_motif_data,1,1)"
   ]
  },
  {
   "cell_type": "code",
   "execution_count": null,
   "metadata": {},
   "outputs": [],
   "source": [
    "plot_seq_importance(dl_pos,pos_X,xlim=(220,275),title=\"Positive\")\n",
    "plot_seq_importance(dl_neg,neg_X,xlim=(220,275),title=\"Negative\")"
   ]
  },
  {
   "cell_type": "markdown",
   "metadata": {},
   "source": [
    "## Heterotypic motifs spatial grammar<a name='8'>\n",
    "<a href=#outline>Home</a>"
   ]
  },
  {
   "cell_type": "code",
   "execution_count": null,
   "metadata": {},
   "outputs": [],
   "source": [
    "#Define simulation parameters \n",
    "heterodimer_parameters = {\n",
    "    \"motif1\": \"SPI1_known4\",\n",
    "    \"motif2\": \"IRF_known1\",\n",
    "    \"seq_length\": 500,\n",
    "    \"min_spacing\": 2,\n",
    "    \"max_spacing\": 5, \n",
    "    \"num_pos\": 10000,\n",
    "    \"num_neg\": 10000,\n",
    "    \"GC_fraction\": 0.4}\n",
    "\n",
    "#Get simulation data\n",
    "heterodimer_data=get_simulation_data(\"simulate_heterodimer_grammar\",\n",
    "                               heterodimer_parameters,\n",
    "                               validation_set_size=3200,test_set_size=4000)"
   ]
  },
  {
   "cell_type": "code",
   "execution_count": null,
   "metadata": {},
   "outputs": [],
   "source": [
    "heterodimer_model=Sequential()\n",
    "heterodimer_model.add(Conv2D(filters=15,kernel_size=(1,15),input_shape=input_shape))\n",
    "heterodimer_model.add(Activation(\"relu\"))\n",
    "heterodimer_model.add(Conv2D(filters=15,kernel_size=(1,15),input_shape=input_shape))\n",
    "heterodimer_model.add(Activation(\"relu\"))\n",
    "heterodimer_model.add(Conv2D(filters=15,kernel_size=(1,15),input_shape=input_shape))\n",
    "heterodimer_model.add(Activation(\"relu\"))\n",
    "heterodimer_model.add(MaxPooling2D(pool_size=(1,35)))    \n",
    "heterodimer_model.add(Flatten())\n",
    "heterodimer_model.add(Dense(num_tasks))\n",
    "heterodimer_model.add(Activation(\"sigmoid\"))\n",
    "heterodimer_model.compile(optimizer='adam',loss='binary_crossentropy')\n"
   ]
  },
  {
   "cell_type": "code",
   "execution_count": null,
   "metadata": {},
   "outputs": [],
   "source": [
    "pos_X, neg_X, ism_pos, ism_neg, gradinput_pos, gradinput_neg, dl_pos, dl_neg=analyze(heterodimer_model,heterodimer_data,1,1)"
   ]
  },
  {
   "cell_type": "code",
   "execution_count": null,
   "metadata": {},
   "outputs": [],
   "source": [
    "plot_seq_importance(dl_pos,pos_X,xlim=(220,275),title=\"Positive\")\n",
    "plot_seq_importance(dl_neg,neg_X,xlim=(220,275),title=\"Negative\")"
   ]
  },
  {
   "cell_type": "markdown",
   "metadata": {},
   "source": [
    "## Conclusions<a name='9'>\n",
    "<a href=#outline>Home</a>"
   ]
  },
  {
   "cell_type": "code",
   "execution_count": null,
   "metadata": {},
   "outputs": [],
   "source": []
  }
 ],
 "metadata": {
  "kernelspec": {
   "display_name": "Python 3",
   "language": "python",
   "name": "python3"
  },
  "language_info": {
   "codemirror_mode": {
    "name": "ipython",
    "version": 3
   },
   "file_extension": ".py",
   "mimetype": "text/x-python",
   "name": "python",
   "nbconvert_exporter": "python",
   "pygments_lexer": "ipython3",
   "version": "3.6.8"
  }
 },
 "nbformat": 4,
 "nbformat_minor": 2
}
