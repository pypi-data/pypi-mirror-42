{
 "cells": [
  {
   "cell_type": "markdown",
   "metadata": {},
   "source": [
    "# Memory Profile"
   ]
  },
  {
   "cell_type": "code",
   "execution_count": 1,
   "metadata": {},
   "outputs": [],
   "source": [
    "import sys\n",
    "sys.path.append('..')\n",
    "from grouplabelencode import grouplabelencode, grouplabelencode_loop"
   ]
  },
  {
   "cell_type": "code",
   "execution_count": 2,
   "metadata": {},
   "outputs": [],
   "source": [
    "import numpy as np\n",
    "data = np.genfromtxt('data.csv',dtype='str')\n",
    "mapping = [['a', 'b'], 'c', ['d', 'e', 'f']]"
   ]
  },
  {
   "cell_type": "code",
   "execution_count": 3,
   "metadata": {},
   "outputs": [],
   "source": [
    "%load_ext memory_profiler"
   ]
  },
  {
   "cell_type": "code",
   "execution_count": 4,
   "metadata": {},
   "outputs": [
    {
     "name": "stdout",
     "output_type": "stream",
     "text": [
      "peak memory: 51.02 MiB, increment: 0.07 MiB\n"
     ]
    }
   ],
   "source": [
    "%memit grouplabelencode(data, mapping, nastate=True)"
   ]
  },
  {
   "cell_type": "code",
   "execution_count": 5,
   "metadata": {},
   "outputs": [
    {
     "name": "stdout",
     "output_type": "stream",
     "text": [
      "\n"
     ]
    },
    {
     "data": {
      "text/plain": [
       "Filename: ../grouplabelencode/grouplabelencode_func.py\n",
       "\n",
       "Line #    Mem usage    Increment   Line Contents\n",
       "================================================\n",
       "     2     51.3 MiB     51.3 MiB   def grouplabelencode_loop(data, mapping, encoding, nacode=None):\n",
       "     3     51.3 MiB      0.0 MiB       out = list()\n",
       "     4                             \n",
       "     5     51.3 MiB      0.0 MiB       for label in data:\n",
       "     6                             \n",
       "     7     51.3 MiB      0.0 MiB           enc = nacode\n",
       "     8                             \n",
       "     9     51.3 MiB      0.0 MiB           for idx, c in enumerate(mapping):\n",
       "    10                             \n",
       "    11     51.3 MiB      0.0 MiB               j = encoding[idx]\n",
       "    12                             \n",
       "    13     51.3 MiB      0.0 MiB               if isinstance(c, str):\n",
       "    14     51.3 MiB      0.0 MiB                   if label == c:\n",
       "    15     51.3 MiB      0.0 MiB                       enc = j\n",
       "    16     51.3 MiB      0.0 MiB                       break\n",
       "    17                                         else:  # list\n",
       "    18     51.3 MiB      0.0 MiB                   if label in c:\n",
       "    19     51.3 MiB      0.0 MiB                       enc = j\n",
       "    20     51.3 MiB      0.0 MiB                       break\n",
       "    21                             \n",
       "    22     51.3 MiB      0.0 MiB           out.append(enc)\n",
       "    23                             \n",
       "    24     51.3 MiB      0.0 MiB       return out"
      ]
     },
     "metadata": {},
     "output_type": "display_data"
    }
   ],
   "source": [
    "%mprun -f grouplabelencode_loop grouplabelencode(data, mapping, nastate=True)"
   ]
  }
 ],
 "metadata": {
  "kernelspec": {
   "display_name": "Python 3",
   "language": "python",
   "name": "python3"
  },
  "language_info": {
   "codemirror_mode": {
    "name": "ipython",
    "version": 3
   },
   "file_extension": ".py",
   "mimetype": "text/x-python",
   "name": "python",
   "nbconvert_exporter": "python",
   "pygments_lexer": "ipython3",
   "version": "3.6.2"
  }
 },
 "nbformat": 4,
 "nbformat_minor": 2
}
