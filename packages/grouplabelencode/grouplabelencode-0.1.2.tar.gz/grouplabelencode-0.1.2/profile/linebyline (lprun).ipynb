{
 "cells": [
  {
   "cell_type": "markdown",
   "metadata": {},
   "source": [
    "# Line by Line Execution Time"
   ]
  },
  {
   "cell_type": "code",
   "execution_count": 1,
   "metadata": {},
   "outputs": [],
   "source": [
    "import sys\n",
    "sys.path.append('..')\n",
    "from grouplabelencode import grouplabelencode, grouplabelencode_loop"
   ]
  },
  {
   "cell_type": "code",
   "execution_count": 2,
   "metadata": {},
   "outputs": [],
   "source": [
    "import numpy as np\n",
    "data = np.genfromtxt('data.csv',dtype='str')\n",
    "mapping = [['a', 'b'], 'c', ['d', 'e', 'f']]"
   ]
  },
  {
   "cell_type": "code",
   "execution_count": 3,
   "metadata": {},
   "outputs": [],
   "source": [
    "%load_ext line_profiler"
   ]
  },
  {
   "cell_type": "code",
   "execution_count": 4,
   "metadata": {},
   "outputs": [
    {
     "data": {
      "text/plain": [
       "Timer unit: 1e-06 s\n",
       "\n",
       "Total time: 0.002464 s\n",
       "File: ../grouplabelencode/grouplabelencode_func.py\n",
       "Function: grouplabelencode_loop at line 2\n",
       "\n",
       "Line #      Hits         Time  Per Hit   % Time  Line Contents\n",
       "==============================================================\n",
       "     2                                           def grouplabelencode_loop(data, mapping, encoding, nacode=None):\n",
       "     3         1         18.0     18.0      0.7      out = list()\n",
       "     4                                           \n",
       "     5       101        631.0      6.2     25.6      for label in data:\n",
       "     6                                           \n",
       "     7       100        117.0      1.2      4.7          enc = nacode\n",
       "     8                                           \n",
       "     9       234        384.0      1.6     15.6          for idx, c in enumerate(mapping):\n",
       "    10                                           \n",
       "    11       221        307.0      1.4     12.5              j = encoding[idx]\n",
       "    12                                           \n",
       "    13       221        358.0      1.6     14.5              if isinstance(c, str):\n",
       "    14        66         84.0      1.3      3.4                  if label == c:\n",
       "    15        11         11.0      1.0      0.4                      enc = j\n",
       "    16        11         13.0      1.2      0.5                      break\n",
       "    17                                                       else:  # list\n",
       "    18       155        213.0      1.4      8.6                  if label in c:\n",
       "    19        76         79.0      1.0      3.2                      enc = j\n",
       "    20        76         96.0      1.3      3.9                      break\n",
       "    21                                           \n",
       "    22       100        152.0      1.5      6.2          out.append(enc)\n",
       "    23                                           \n",
       "    24         1          1.0      1.0      0.0      return out"
      ]
     },
     "metadata": {},
     "output_type": "display_data"
    }
   ],
   "source": [
    "%lprun -f grouplabelencode_loop grouplabelencode(data, mapping, nastate=True)"
   ]
  }
 ],
 "metadata": {
  "kernelspec": {
   "display_name": "Python 3",
   "language": "python",
   "name": "python3"
  },
  "language_info": {
   "codemirror_mode": {
    "name": "ipython",
    "version": 3
   },
   "file_extension": ".py",
   "mimetype": "text/x-python",
   "name": "python",
   "nbconvert_exporter": "python",
   "pygments_lexer": "ipython3",
   "version": "3.6.2"
  }
 },
 "nbformat": 4,
 "nbformat_minor": 2
}
