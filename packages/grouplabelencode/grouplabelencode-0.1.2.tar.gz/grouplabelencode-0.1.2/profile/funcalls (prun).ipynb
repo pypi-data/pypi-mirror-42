{
 "cells": [
  {
   "cell_type": "markdown",
   "metadata": {},
   "source": [
    "# Execution Time by Function Calls"
   ]
  },
  {
   "cell_type": "code",
   "execution_count": 1,
   "metadata": {},
   "outputs": [],
   "source": [
    "import sys\n",
    "sys.path.append('..')\n",
    "from grouplabelencode import grouplabelencode"
   ]
  },
  {
   "cell_type": "code",
   "execution_count": 2,
   "metadata": {},
   "outputs": [],
   "source": [
    "import numpy as np\n",
    "data = np.genfromtxt('data.csv',dtype='str')\n",
    "mapping = [['a', 'b'], 'c', ['d', 'e', 'f']]"
   ]
  },
  {
   "cell_type": "code",
   "execution_count": 3,
   "metadata": {},
   "outputs": [
    {
     "name": "stdout",
     "output_type": "stream",
     "text": [
      " "
     ]
    },
    {
     "data": {
      "text/plain": [
       "         329 function calls in 0.000 seconds\n",
       "\n",
       "   Ordered by: internal time\n",
       "   List reduced from 8 to 2 due to restriction <'grouplabelencode_func.py'>\n",
       "\n",
       "   ncalls  tottime  percall  cumtime  percall filename:lineno(function)\n",
       "        1    0.000    0.000    0.000    0.000 grouplabelencode_func.py:2(grouplabelencode_loop)\n",
       "        1    0.000    0.000    0.000    0.000 grouplabelencode_func.py:27(grouplabelencode)"
      ]
     },
     "metadata": {},
     "output_type": "display_data"
    }
   ],
   "source": [
    "%prun -l grouplabelencode_func.py encoded = grouplabelencode(data, mapping, nastate=True)"
   ]
  }
 ],
 "metadata": {
  "kernelspec": {
   "display_name": "Python 3",
   "language": "python",
   "name": "python3"
  },
  "language_info": {
   "codemirror_mode": {
    "name": "ipython",
    "version": 3
   },
   "file_extension": ".py",
   "mimetype": "text/x-python",
   "name": "python",
   "nbconvert_exporter": "python",
   "pygments_lexer": "ipython3",
   "version": "3.6.2"
  }
 },
 "nbformat": 4,
 "nbformat_minor": 2
}
