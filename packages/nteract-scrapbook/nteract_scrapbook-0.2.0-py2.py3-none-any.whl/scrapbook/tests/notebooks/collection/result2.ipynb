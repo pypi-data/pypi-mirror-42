{
 "cells": [
  {
   "cell_type": "code",
   "execution_count": 1,
   "metadata": {
    "tags": [
     "parameters"
    ]
   },
   "outputs": [],
   "source": [
    "# Parameters\n",
    "foo = 2\n",
    "bar = \"world\"\n"
   ]
  },
  {
   "cell_type": "code",
   "execution_count": 2,
   "metadata": {
    "papermill": {"duration": 0.456},
    "tags": []
   },
   "outputs": [
    {
     "data": {
      "application/scrapbook.scrap.json+json": {
       "name": "two",
       "data": 2,
       "encoder": "json",
       "version": 1
      }
     },
     "metadata": {
       "scrapbook": {
        "name": "two",
        "data": true,
        "display": false
       }
     },
     "output_type": "display_data"
    },
    {
     "data": {
      "application/papermill.record+json": {
       "number": 2
      }
     },
     "metadata": {},
     "output_type": "display_data"
    },
    {
     "data": {
      "application/papermill.record+json": {
       "list": [
        4,
        5,
        6
       ]
      }
     },
     "metadata": {},
     "output_type": "display_data"
    },
    {
     "data": {
      "application/papermill.record+json": {
       "dict": {
        "a": 3,
        "b": 4
       }
      }
     },
     "metadata": {},
     "output_type": "display_data"
    },
    {
     "data": {
      "text/plain": [
       "'Hello World 2!'"
      ]
     },
     "metadata": {
      "papermill": {
       "name": "output"
      }
     },
     "output_type": "display_data"
    },
    {
     "data": {
      "text/plain": [
       "'Just here!'"
      ]
     },
     "metadata": {
      "scrapbook": {
       "name": "two_only",
       "data": false,
       "display": true
      }
     },
     "output_type": "display_data"
    }
   ],
   "source": [
    "import scrapbook as sb\n",
    "\n",
    "sb.glue(\"two\", 2)\n",
    "sb.glue(\"number\", 2)\n",
    "sb.glue(\"list\", [4,5,6])\n",
    "sb.glue(\"dict\", dict(a=3, b=4))\n",
    "\n",
    "sb.sketch(\"output\", \"Hello World 2!\")",
    "sb.sketch(\"two_only\", \"Just here!\")"
   ]
  }
 ],
 "metadata": {
  "celltoolbar": "Tags",
  "hide_input": false,
  "kernelspec": {
   "display_name": "Python 2",
   "language": "python",
   "name": "python2"
  },
  "language_info": {
   "codemirror_mode": {
    "name": "ipython",
    "version": 2.0
   },
   "file_extension": ".py",
   "mimetype": "text/x-python",
   "name": "python",
   "nbconvert_exporter": "python",
   "pygments_lexer": "ipython2",
   "version": "2.7.12"
  },
  "papermill": {
   "environment_variables": {},
   "metrics": {
    "duration": 2.2486860752105713
   },
   "parameters": {
    "bar": "world",
    "foo": 2
   },
   "version": "0.4+2.ge10f94c.dirty"
  }
 },
 "nbformat": 4,
 "nbformat_minor": 0
}
