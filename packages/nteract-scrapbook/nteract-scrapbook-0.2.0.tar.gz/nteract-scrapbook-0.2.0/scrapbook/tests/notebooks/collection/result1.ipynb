{
 "cells": [
  {
   "cell_type": "code",
   "execution_count": 1,
   "metadata": {
    "tags": [
     "parameters"
    ]
   },
   "outputs": [],
   "source": [
    "# Parameters\n",
    "foo = 1\n",
    "bar = \"hello\"\n"
   ]
  },
  {
   "cell_type": "code",
   "execution_count": 2,
   "metadata": {
    "papermill": {"duration": 0.123},
    "tags": []
   },
   "outputs": [
    {
     "data": {
      "application/scrapbook.scrap.json+json": {
       "name": "one",
       "data": 1,
       "encoder": "json",
       "version": 1
      }
     },
     "metadata": {
       "scrapbook": {
        "name": "one",
        "data": true,
        "display": false
       }
     },
     "output_type": "display_data"
    },
    {
     "data": {
      "application/papermill.record+json": {
       "number": 1
      }
     },
     "metadata": {},
     "output_type": "display_data"
    },
    {
     "data": {
      "application/papermill.record+json": {
       "list": [
        1,
        2,
        3
       ]
      }
     },
     "metadata": {},
     "output_type": "display_data"
    },
    {
     "data": {
      "application/papermill.record+json": {
       "dict": {
        "a": 1,
        "b": 2
       }
      }
     },
     "metadata": {},
     "output_type": "display_data"
    },
    {
     "data": {
      "text/plain": [
       "'Hello World!'"
      ]
     },
     "metadata": {
      "papermill": {
       "name": "output"
      }
     },
     "output_type": "display_data"
    },
    {
     "data": {
      "text/plain": [
       "'Just here!'"
      ]
     },
     "metadata": {
      "scrapbook": {
       "name": "one_only",
       "data": false,
       "display": true
      }
     },
     "output_type": "display_data"
    }
   ],
   "source": [
    "import scrapbook as sb\n",
    "\n",
    "sb.glue(\"one\", 1)\n",
    "sb.glue(\"number\", 1)\n",
    "sb.glue(\"list\", [1,2,3])\n",
    "sb.glue(\"dict\", dict(a=1, b=2))\n",
    "\n",
    "sb.sketch(\"output\", \"Hello World!\")",
    "sb.sketch(\"one_only\", \"Just here!\")"
   ]
  }
 ],
 "metadata": {
  "celltoolbar": "Tags",
  "hide_input": false,
  "kernelspec": {
   "display_name": "Python 2",
   "language": "python",
   "name": "python2"
  },
  "language_info": {
   "codemirror_mode": {
    "name": "ipython",
    "version": 2.0
   },
   "file_extension": ".py",
   "mimetype": "text/x-python",
   "name": "python",
   "nbconvert_exporter": "python",
   "pygments_lexer": "ipython2",
   "version": "2.7.12"
  },
  "papermill": {
   "environment_variables": {},
   "metrics": {
    "duration": 2.250469923019409
   },
   "parameters": {
    "bar": "hello",
    "foo": 1
   },
   "version": "0.4+2.ge10f94c.dirty"
  }
 },
 "nbformat": 4,
 "nbformat_minor": 0
}
