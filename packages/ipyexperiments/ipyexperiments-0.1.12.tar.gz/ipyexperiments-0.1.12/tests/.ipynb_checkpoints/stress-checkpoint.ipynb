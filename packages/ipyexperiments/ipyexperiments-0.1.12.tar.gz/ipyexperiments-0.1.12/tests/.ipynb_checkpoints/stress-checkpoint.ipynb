{
 "cells": [
  {
   "cell_type": "code",
   "execution_count": 1,
   "metadata": {},
   "outputs": [],
   "source": [
    "%reload_ext autoreload\n",
    "%autoreload 2\n",
    "from ipyexperiments import *\n",
    "import gc"
   ]
  },
  {
   "cell_type": "code",
   "execution_count": 8,
   "metadata": {},
   "outputs": [
    {
     "name": "stderr",
     "output_type": "stream",
     "text": [
      "DEBUG:ipyexperiments.cell_logger:pre_run_cell: 1 f<ipyexperiments.ipyexperiments.IPyExperimentsPytorch object at 0x7fb604717780>\n",
      "DEBUG:ipyexperiments.ipyexperiments:IPyExperimentsPytorchfinish: 0 <ipyexperiments.ipyexperiments.IPyExperimentsPytorch object at 0x7fb604717780>\n",
      "DEBUG:ipyexperiments.cell_logger:CellLogger: Stopping\n"
     ]
    },
    {
     "name": "stdout",
     "output_type": "stream",
     "text": [
      "IPyExperimentsPytorch: Finishing\n",
      "\n",
      "*** Experiment finished in 00:00:19 (elapsed wallclock time)\n",
      "\n",
      "*** Experiment memory:\n",
      "RAM:  Consumed     Reclaimed\n",
      "CPU:       0       0 MB (  0.00%)\n",
      "GPU:       0       0 MB (100.00%)\n",
      "\n",
      "*** Current state:\n",
      "RAM:  Used  Free  Total      Util\n",
      "CPU:  2156 10660  31588 MB   6.83% \n",
      "GPU:  1745  6374   8119 MB  21.49% \n",
      "\n",
      "\n"
     ]
    },
    {
     "data": {
      "text/plain": [
       "(IPyExperimentMemory(consumed=4096, reclaimed=0, available=11178201088),\n",
       " IPyExperimentMemory(consumed=0, reclaimed=0, available=6684213248))"
      ]
     },
     "execution_count": 8,
     "metadata": {},
     "output_type": "execute_result"
    },
    {
     "name": "stderr",
     "output_type": "stream",
     "text": [
      "DEBUG:ipyexperiments.ipyexperiments:IPyExperimentsPytorch::__del__: <ipyexperiments.ipyexperiments.IPyExperimentsPytorch object at 0x7fb604717780>\n"
     ]
    }
   ],
   "source": [
    "if 'exp10' in locals():\n",
    "    exp10.finish()\n",
    "    del exp10\n",
    "    \n",
    "#gc.collect()"
   ]
  },
  {
   "cell_type": "code",
   "execution_count": 12,
   "metadata": {},
   "outputs": [
    {
     "name": "stderr",
     "output_type": "stream",
     "text": [
      "DEBUG:ipyexperiments.cell_logger:pre_run_cell: 1 f<ipyexperiments.ipyexperiments.IPyExperimentsPytorch object at 0x7fb604fd5908>\n",
      "DEBUG:ipyexperiments.ipyexperiments:IPyExperimentsPytorch::__init__: <ipyexperiments.ipyexperiments.IPyExperimentsPytorch object at 0x7fb57ff072e8>\n",
      "DEBUG:ipyexperiments.ipyexperiments:Starting IPyExperimentsPytorch\n",
      "DEBUG:ipyexperiments.cell_logger:CellLogger: Starting\n",
      "DEBUG:ipyexperiments.cell_logger:pre_run_cell: 1 f<ipyexperiments.ipyexperiments.IPyExperimentsPytorch object at 0x7fb57ff072e8>\n",
      "DEBUG:ipyexperiments.ipyexperiments:IPyExperimentsPytorch::__del__: <ipyexperiments.ipyexperiments.IPyExperimentsPytorch object at 0x7fb604fd5908>\n",
      "DEBUG:ipyexperiments.ipyexperiments:IPyExperimentsPytorchfinish: 0 <ipyexperiments.ipyexperiments.IPyExperimentsPytorch object at 0x7fb604fd5908>\n",
      "DEBUG:ipyexperiments.cell_logger:CellLogger: Stopping\n",
      "DEBUG:ipyexperiments.ipyexperiments:IPyExperimentsPytorch::__init__: <ipyexperiments.ipyexperiments.IPyExperimentsPytorch object at 0x7fb604fc9ba8>\n",
      "DEBUG:ipyexperiments.ipyexperiments:Starting IPyExperimentsPytorch\n",
      "DEBUG:ipyexperiments.cell_logger:CellLogger: Starting\n",
      "DEBUG:ipyexperiments.cell_logger:pre_run_cell: 1 f<ipyexperiments.ipyexperiments.IPyExperimentsPytorch object at 0x7fb604fc9ba8>\n",
      "DEBUG:ipyexperiments.ipyexperiments:IPyExperimentsPytorch::__del__: <ipyexperiments.ipyexperiments.IPyExperimentsPytorch object at 0x7fb57ff072e8>\n",
      "DEBUG:ipyexperiments.ipyexperiments:IPyExperimentsPytorchfinish: 0 <ipyexperiments.ipyexperiments.IPyExperimentsPytorch object at 0x7fb57ff072e8>\n",
      "DEBUG:ipyexperiments.cell_logger:CellLogger: Stopping\n",
      "DEBUG:ipyexperiments.cell_logger:post_run_cell: 1 f<ipyexperiments.ipyexperiments.IPyExperimentsPytorch object at 0x7fb604fc9ba8>\n"
     ]
    },
    {
     "name": "stdout",
     "output_type": "stream",
     "text": [
      "\n",
      "*** Experiment started with the Pytorch backend\n",
      "Device: ID 0, GeForce GTX 1070 Ti (8119 RAM)\n",
      "\n",
      "\n",
      "*** Current state:\n",
      "RAM:  Used  Free  Total      Util\n",
      "CPU:  2156 10601  31588 MB   6.83% \n",
      "GPU:  1745  6374   8119 MB  21.49% \n",
      "\n",
      "\n",
      "IPyExperimentsPytorch: Finishing\n",
      "\n",
      "*** Experiment finished in 00:00:04 (elapsed wallclock time)\n",
      "\n",
      "*** Experiment memory:\n",
      "RAM:  Consumed     Reclaimed\n",
      "CPU:       0       0 MB (100.00%)\n",
      "GPU:       0       0 MB (100.00%)\n",
      "\n",
      "*** Current state:\n",
      "RAM:  Used  Free  Total      Util\n",
      "CPU:  2156 10600  31588 MB   6.83% \n",
      "GPU:  1745  6374   8119 MB  21.49% \n",
      "\n",
      "\n",
      "\n",
      "*** Experiment started with the Pytorch backend\n",
      "Device: ID 0, GeForce GTX 1070 Ti (8119 RAM)\n",
      "\n",
      "\n",
      "*** Current state:\n",
      "RAM:  Used  Free  Total      Util\n",
      "CPU:  2156 10600  31588 MB   6.83% \n",
      "GPU:  1745  6374   8119 MB  21.49% \n",
      "\n",
      "\n",
      "IPyExperimentsPytorch: Finishing\n",
      "\n",
      "*** Experiment finished in 00:00:00 (elapsed wallclock time)\n",
      "\n",
      "*** Experiment memory:\n",
      "RAM:  Consumed     Reclaimed\n",
      "CPU:       0       0 MB (100.00%)\n",
      "GPU:       0       0 MB (100.00%)\n",
      "\n",
      "*** Current state:\n",
      "RAM:  Used  Free  Total      Util\n",
      "CPU:  2156 10600  31588 MB   6.83% \n",
      "GPU:  1745  6374   8119 MB  21.49% \n",
      "\n",
      "\n",
      "✧RAM: Consumed Peaked  Used Total | Exec time 0.020s\n",
      "✧CPU:        0      0     2156 MB |\n",
      "✧GPU:     1745      0     1745 MB |\n"
     ]
    }
   ],
   "source": [
    "exp10 = IPyExperimentsPytorch(cl_enable=True)\n",
    "exp10 = IPyExperimentsPytorch(cl_enable=True)"
   ]
  },
  {
   "cell_type": "code",
   "execution_count": null,
   "metadata": {},
   "outputs": [],
   "source": []
  },
  {
   "cell_type": "code",
   "execution_count": 10,
   "metadata": {},
   "outputs": [
    {
     "name": "stderr",
     "output_type": "stream",
     "text": [
      "DEBUG:ipyexperiments.cell_logger:pre_run_cell: 1 f<ipyexperiments.ipyexperiments.IPyExperimentsPytorch object at 0x7fb57ff07390>\n"
     ]
    },
    {
     "data": {
      "application/javascript": [
       "IPython.notebook.save_notebook()\n"
      ],
      "text/plain": [
       "<IPython.core.display.Javascript object>"
      ]
     },
     "metadata": {},
     "output_type": "display_data"
    },
    {
     "name": "stderr",
     "output_type": "stream",
     "text": [
      "DEBUG:ipyexperiments.cell_logger:post_run_cell: 1 f<ipyexperiments.ipyexperiments.IPyExperimentsPytorch object at 0x7fb57ff07390>\n"
     ]
    },
    {
     "name": "stdout",
     "output_type": "stream",
     "text": [
      "✧RAM: Consumed Peaked  Used Total | Exec time 0.002s\n",
      "✧CPU:        0      0     2156 MB |\n",
      "✧GPU:        0      0     1745 MB |\n"
     ]
    }
   ],
   "source": [
    "%%javascript # prevent committing an unsaved notebook\n",
    "IPython.notebook.save_notebook()"
   ]
  }
 ],
 "metadata": {
  "hide_input": false,
  "kernelspec": {
   "display_name": "Python 3",
   "language": "python",
   "name": "python3"
  },
  "language_info": {
   "codemirror_mode": {
    "name": "ipython",
    "version": 3
   },
   "file_extension": ".py",
   "mimetype": "text/x-python",
   "name": "python",
   "nbconvert_exporter": "python",
   "pygments_lexer": "ipython3",
   "version": "3.7.1"
  },
  "toc": {
   "base_numbering": 1,
   "nav_menu": {},
   "number_sections": true,
   "sideBar": true,
   "skip_h1_title": false,
   "title_cell": "Table of Contents",
   "title_sidebar": "Contents",
   "toc_cell": false,
   "toc_position": {
    "height": "calc(100% - 180px)",
    "left": "10px",
    "top": "150px",
    "width": "264px"
   },
   "toc_section_display": true,
   "toc_window_display": true
  },
  "varInspector": {
   "cols": {
    "lenName": 16,
    "lenType": 16,
    "lenVar": 40
   },
   "kernels_config": {
    "python": {
     "delete_cmd_postfix": "",
     "delete_cmd_prefix": "del ",
     "library": "var_list.py",
     "varRefreshCmd": "print(var_dic_list())"
    },
    "r": {
     "delete_cmd_postfix": ") ",
     "delete_cmd_prefix": "rm(",
     "library": "var_list.r",
     "varRefreshCmd": "cat(var_dic_list()) "
    }
   },
   "position": {
    "height": "323px",
    "left": "956px",
    "right": "20px",
    "top": "152px",
    "width": "350px"
   },
   "types_to_exclude": [
    "module",
    "function",
    "builtin_function_or_method",
    "instance",
    "_Feature"
   ],
   "window_display": false
  }
 },
 "nbformat": 4,
 "nbformat_minor": 2
}
