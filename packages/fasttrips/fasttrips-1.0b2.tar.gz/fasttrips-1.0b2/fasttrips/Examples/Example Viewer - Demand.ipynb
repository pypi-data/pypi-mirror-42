{
 "cells": [
  {
   "cell_type": "code",
   "execution_count": null,
   "metadata": {},
   "outputs": [],
   "source": [
    "import os\n",
    "import math\n",
    "from datetime import time\n",
    "\n",
    "try:\n",
    "    import bokeh\n",
    "except:\n",
    "    import sys\n",
    "    !{sys.executable} -m pip install bokeh\n",
    "    import bokeh\n",
    "    \n",
    "from bokeh.plotting import show\n",
    "from ipywidgets import interact, widgets\n",
    "\n",
    "from fasttrips.utils.maps import map_demand\n",
    "from fasttrips.utils.plots import plot_demand_time\n",
    "\n",
    "bokeh.io.output_notebook()"
   ]
  },
  {
   "cell_type": "code",
   "execution_count": null,
   "metadata": {},
   "outputs": [],
   "source": [
    "start_example = \"Springfield\"\n",
    "def plot_example(example, network, demand, minutes):\n",
    "    print example,\":\", network, demand\n",
    "    network_dir = os.path.join(example, 'networks',network)\n",
    "    demand_dir = os.path.join(example, 'demand',demand)\n",
    "    show(plot_demand_time(demand_dir, minutes))\n",
    "    if not os.path.exists(os.path.join(network_dir,\"taz_coords.txt\")):\n",
    "        print \"No taz_coords.txt in demand; cannot map demand.\"\n",
    "    else:\n",
    "        show(map_demand( demand_dir, network_dir))\n",
    "\n",
    "def pick_scenario(example):\n",
    "    interact(plot_example,example=example, network = os.listdir(os.path.join(\".\",example,\"networks\")),demand = os.listdir(os.path.join(\".\",example,\"demand\")),minutes=(5,60))\n",
    "\n",
    "interact(pick_scenario, example = [\"Springfield\",\"Bear\",\"Bunny_Hop\",\"Seattle_Region\"])"
   ]
  },
  {
   "cell_type": "code",
   "execution_count": null,
   "metadata": {
    "collapsed": true
   },
   "outputs": [],
   "source": []
  }
 ],
 "metadata": {
  "kernelspec": {
   "display_name": "Python 2",
   "language": "python",
   "name": "python2"
  },
  "language_info": {
   "codemirror_mode": {
    "name": "ipython",
    "version": 2
   },
   "file_extension": ".py",
   "mimetype": "text/x-python",
   "name": "python",
   "nbconvert_exporter": "python",
   "pygments_lexer": "ipython2",
   "version": "2.7.13"
  }
 },
 "nbformat": 4,
 "nbformat_minor": 2
}
