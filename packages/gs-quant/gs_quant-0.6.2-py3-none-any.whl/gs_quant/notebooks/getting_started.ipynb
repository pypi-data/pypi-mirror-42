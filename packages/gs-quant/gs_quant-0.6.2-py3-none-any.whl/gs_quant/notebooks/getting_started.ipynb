{
 "cells": [
  {
   "cell_type": "markdown",
   "metadata": {},
   "source": [
    "## Getting Started\n",
    "Let's start a new session. **Replace client id and secret placeholders with actual values.**"
   ]
  },
  {
   "cell_type": "code",
   "execution_count": 1,
   "metadata": {},
   "outputs": [],
   "source": [
    "%matplotlib inline\n",
    "\n",
    "from gs_quant import *\n",
    "import pprint as pp\n",
    "\n",
    "# session = AppSession('CLIENT_ID', 'CLIENT_SECRET', Environment.PROD)\n",
    "GsSession.use(Environment.QA)"
   ]
  },
  {
   "cell_type": "markdown",
   "metadata": {},
   "source": [
    "Retrieve information about a dataset from the catalog."
   ]
  },
  {
   "cell_type": "code",
   "execution_count": 2,
   "metadata": {},
   "outputs": [
    {
     "name": "stdout",
     "output_type": "stream",
     "text": [
      "{'id': 'EDRVOL_PERCENT_SHORT',\n",
      " 'name': 'Equity Implied Volatility by Strike - EOD - Short Dated',\n",
      " 'parameters': {'assetClass': 'Equity',\n",
      "                'category': 'Market Data',\n",
      "                'coverage': 'Coverage may change through time subject to '\n",
      "                            'market dynamics, liquidity or other factors. The '\n",
      "                            'following tenors are available in the short-dated '\n",
      "                            'version of the dataset: 1m, 2m, 3m, 4m, 5m, 6m, '\n",
      "                            '7m, 8m, 9m, 1y.',\n",
      "                'frequency': 'Daily',\n",
      "                'history': 'August 3, 2015 to present',\n",
      "                'methodology': 'For a given equity asset, the dataset uses a '\n",
      "                               'proprietary model to calibrate a surface of '\n",
      "                               'implied volatilities. This surface represents '\n",
      "                               'a 2 dimensional space across strikes (deltas) '\n",
      "                               'and tenors which can be used to sample '\n",
      "                               'volatility levels. The model uses either a '\n",
      "                               'parametric or coordinate based model to fit '\n",
      "                               'the surface based on internally or externally '\n",
      "                               'observable prices. For each relevant business '\n",
      "                               'date, this dataset provides the volatility '\n",
      "                               'level such that an option contract for a given '\n",
      "                               'tenor and delta has a price consistent with '\n",
      "                               'our model for option prices. This may be '\n",
      "                               'informed by external pricing inputs (listed '\n",
      "                               'prices) or our own internal pricing inputs. '\n",
      "                               'Each asset business day, the implied '\n",
      "                               'volatility will be computed per this '\n",
      "                               'methodology and relevant measures are '\n",
      "                               'published to the Marquee data service.',\n",
      "                'subCategory': 'Equity'},\n",
      " 'shortDescription': 'Historical implied volatility levels for global equity '\n",
      "                     'indices and ETFs. Uses Goldman Sachs Securities Division '\n",
      "                     'proprietary pricing models to compute the volatility '\n",
      "                     'level for a given strike and tenor.',\n",
      " 'vendor': 'Goldman Sachs'}\n"
     ]
    }
   ],
   "source": [
    "from gs_quant.dataset import Dataset\n",
    "dataset = Dataset('EDRVOL_PERCENT_SHORT')\n",
    "catalog = dataset.catalog\n",
    "fields = ['id', 'name', 'shortDescription', 'vendor', 'parameters']\n",
    "catalog = {k: v for k, v in catalog.items() if k in fields}\n",
    "pp.pprint(catalog)  # show selected metadata"
   ]
  },
  {
   "cell_type": "markdown",
   "metadata": {},
   "source": [
    "Find out what assets are included in the dataset."
   ]
  },
  {
   "cell_type": "code",
   "execution_count": 3,
   "metadata": {},
   "outputs": [
    {
     "name": "stdout",
     "output_type": "stream",
     "text": [
      "[{'assetId': 'MA4CM8YSTE17SAD8',\n",
      "  'bbid': 'TPXC30',\n",
      "  'description': '',\n",
      "  'name': 'TOPIX Core 30 Idx (TSE)'},\n",
      " {'assetId': 'MAYVTRHHE5A41HXM',\n",
      "  'bbid': 'SXAE',\n",
      "  'description': '',\n",
      "  'name': 'ESTX AUTO&PARTS EUR PR'},\n",
      " {'assetId': 'MA4B66MW5E27U8P32VS',\n",
      "  'bbid': 'TAMSCI',\n",
      "  'description': '',\n",
      "  'name': 'MSCI Taiwan (simex Derivatives) TWD'}]\n"
     ]
    }
   ],
   "source": [
    "coverage = dataset.get_coverage()\n",
    "pp.pprint(coverage[:3])  # show the first 3 covered assets"
   ]
  },
  {
   "cell_type": "markdown",
   "metadata": {},
   "source": [
    "## Retrieving a Data Table\n",
    "Get data as a Pandas DataFrame. Note: this example will not work if you do not have access to EDRVOL_PERCENT_SHORT."
   ]
  },
  {
   "cell_type": "code",
   "execution_count": 3,
   "metadata": {},
   "outputs": [
    {
     "data": {
      "text/html": [
       "<div>\n",
       "<style scoped>\n",
       "    .dataframe tbody tr th:only-of-type {\n",
       "        vertical-align: middle;\n",
       "    }\n",
       "\n",
       "    .dataframe tbody tr th {\n",
       "        vertical-align: top;\n",
       "    }\n",
       "\n",
       "    .dataframe thead th {\n",
       "        text-align: right;\n",
       "    }\n",
       "</style>\n",
       "<table border=\"1\" class=\"dataframe\">\n",
       "  <thead>\n",
       "    <tr style=\"text-align: right;\">\n",
       "      <th></th>\n",
       "      <th>absoluteStrike</th>\n",
       "      <th>assetId</th>\n",
       "      <th>date</th>\n",
       "      <th>impliedVolatility</th>\n",
       "      <th>relativeStrike</th>\n",
       "      <th>ric</th>\n",
       "      <th>strikeReference</th>\n",
       "      <th>tenor</th>\n",
       "      <th>updateTime</th>\n",
       "    </tr>\n",
       "  </thead>\n",
       "  <tbody>\n",
       "    <tr>\n",
       "      <th>0</th>\n",
       "      <td>2697.783746</td>\n",
       "      <td>MA4B66MW5E27U8P32SB</td>\n",
       "      <td>2018-01-02</td>\n",
       "      <td>0.070022</td>\n",
       "      <td>1.0</td>\n",
       "      <td>.SPX</td>\n",
       "      <td>forward</td>\n",
       "      <td>1m</td>\n",
       "      <td>2018-01-03T02:04:53Z</td>\n",
       "    </tr>\n",
       "    <tr>\n",
       "      <th>1</th>\n",
       "      <td>2696.135644</td>\n",
       "      <td>MA4B66MW5E27U8P32SB</td>\n",
       "      <td>2018-01-02</td>\n",
       "      <td>0.080888</td>\n",
       "      <td>1.0</td>\n",
       "      <td>.SPX</td>\n",
       "      <td>forward</td>\n",
       "      <td>2m</td>\n",
       "      <td>2018-01-03T02:04:53Z</td>\n",
       "    </tr>\n",
       "    <tr>\n",
       "      <th>2</th>\n",
       "      <td>2697.130446</td>\n",
       "      <td>MA4B66MW5E27U8P32SB</td>\n",
       "      <td>2018-01-02</td>\n",
       "      <td>0.091925</td>\n",
       "      <td>1.0</td>\n",
       "      <td>.SPX</td>\n",
       "      <td>forward</td>\n",
       "      <td>3m</td>\n",
       "      <td>2018-01-03T02:04:53Z</td>\n",
       "    </tr>\n",
       "    <tr>\n",
       "      <th>3</th>\n",
       "      <td>2699.050048</td>\n",
       "      <td>MA4B66MW5E27U8P32SB</td>\n",
       "      <td>2018-01-02</td>\n",
       "      <td>0.099709</td>\n",
       "      <td>1.0</td>\n",
       "      <td>.SPX</td>\n",
       "      <td>forward</td>\n",
       "      <td>4m</td>\n",
       "      <td>2018-01-03T02:04:53Z</td>\n",
       "    </tr>\n",
       "    <tr>\n",
       "      <th>4</th>\n",
       "      <td>2698.260491</td>\n",
       "      <td>MA4B66MW5E27U8P32SB</td>\n",
       "      <td>2018-01-02</td>\n",
       "      <td>0.106814</td>\n",
       "      <td>1.0</td>\n",
       "      <td>.SPX</td>\n",
       "      <td>forward</td>\n",
       "      <td>5m</td>\n",
       "      <td>2018-01-03T02:04:53Z</td>\n",
       "    </tr>\n",
       "  </tbody>\n",
       "</table>\n",
       "</div>"
      ],
      "text/plain": [
       "   absoluteStrike              assetId        date  impliedVolatility  \\\n",
       "0     2697.783746  MA4B66MW5E27U8P32SB  2018-01-02           0.070022   \n",
       "1     2696.135644  MA4B66MW5E27U8P32SB  2018-01-02           0.080888   \n",
       "2     2697.130446  MA4B66MW5E27U8P32SB  2018-01-02           0.091925   \n",
       "3     2699.050048  MA4B66MW5E27U8P32SB  2018-01-02           0.099709   \n",
       "4     2698.260491  MA4B66MW5E27U8P32SB  2018-01-02           0.106814   \n",
       "\n",
       "   relativeStrike   ric strikeReference tenor            updateTime  \n",
       "0             1.0  .SPX         forward    1m  2018-01-03T02:04:53Z  \n",
       "1             1.0  .SPX         forward    2m  2018-01-03T02:04:53Z  \n",
       "2             1.0  .SPX         forward    3m  2018-01-03T02:04:53Z  \n",
       "3             1.0  .SPX         forward    4m  2018-01-03T02:04:53Z  \n",
       "4             1.0  .SPX         forward    5m  2018-01-03T02:04:53Z  "
      ]
     },
     "execution_count": 3,
     "metadata": {},
     "output_type": "execute_result"
    }
   ],
   "source": [
    "from datetime import date\n",
    "df = dataset.get_data(date(2018, 1, 2), date(2018, 1, 9), ric='.SPX', relativeStrike=1)\n",
    "df.head()"
   ]
  },
  {
   "cell_type": "markdown",
   "metadata": {},
   "source": [
    "## Retrieving a Data Series\n",
    "Get S&P 500 prices as a Pandas Series. Note: this example will not work if you do not have access to TREOD."
   ]
  },
  {
   "cell_type": "code",
   "execution_count": 4,
   "metadata": {},
   "outputs": [
    {
     "data": {
      "image/png": "[encoded data removed]",
      "text/plain": [
       "<Figure size 432x288 with 1 Axes>"
      ]
     },
     "metadata": {
      "needs_background": "light"
     },
     "output_type": "display_data"
    }
   ],
   "source": [
    "import matplotlib.pyplot as plt\n",
    "from datetime import date\n",
    "dataset = Dataset('TREOD')\n",
    "series = dataset.get_data_series('tradePrice', date(2006, 1, 1), date(2012, 1, 1), assetId='MA4B66MW5E27U8P32SB')\n",
    "plt.clf()\n",
    "series.plot()\n",
    "plt.show()\n"
   ]
  },
  {
   "cell_type": "markdown",
   "metadata": {},
   "source": [
    "Calculate max drawdown and plot it."
   ]
  },
  {
   "cell_type": "code",
   "execution_count": 5,
   "metadata": {},
   "outputs": [
    {
     "data": {
      "image/png": "[encoded data removed]",
      "text/plain": [
       "<Figure size 432x288 with 1 Axes>"
      ]
     },
     "metadata": {
      "needs_background": "light"
     },
     "output_type": "display_data"
    }
   ],
   "source": [
    "import gs_quant.timeseries as ts  # timeseries functions do not require an open session\n",
    "mdd = ts.max_drawdown(series)\n",
    "plt.clf()\n",
    "mdd.plot('area')\n",
    "plt.show()"
   ]
  },
  {
   "cell_type": "markdown",
   "metadata": {},
   "source": [
    "## Identifier Mapping\n",
    "Map identifiers from one type to another e.g. Marquee asset ID to BBID."
   ]
  },
  {
   "cell_type": "code",
   "execution_count": 7,
   "metadata": {
    "scrolled": true
   },
   "outputs": [
    {
     "name": "stdout",
     "output_type": "stream",
     "text": [
      "{'MA4B66MW5E27U8NN95P': 'UKX',\n",
      " 'MA4B66MW5E27U8P32SB': 'SPX',\n",
      " 'MA4B66MW5E27UAHKG34': 'GS UN'}\n"
     ]
    }
   ],
   "source": [
    "from gs_quant.asset import Asset\n",
    "ids = Asset.map_identifiers('id', 'bbid', ['MA4B66MW5E27U8P32SB', 'MA4B66MW5E27U8NN95P', 'MA4B66MW5E27UAHKG34'])\n",
    "pp.pprint(ids)"
   ]
  },
  {
   "cell_type": "markdown",
   "metadata": {},
   "source": [
    "## Cleaning Up"
   ]
  },
  {
   "cell_type": "markdown",
   "metadata": {},
   "source": [
    "When finished, call session.finish() to free up resources. Alternatively, use 'with' syntax to take care of this automatically."
   ]
  },
  {
   "cell_type": "code",
   "execution_count": 6,
   "metadata": {},
   "outputs": [],
   "source": [
    "dataset = Dataset('TREOD')\n",
    "\n",
    "with GsSession.get(Environment.PROD):\n",
    "    # session is open in this block\n",
    "    series = dataset.get_data_series('tradePrice', date(2006, 1, 1), date(2012, 1, 1), assetId='MA4B66MW5E27U8P32SB')\n",
    "\n",
    "# session is closed out here\n",
    "mdd = ts.max_drawdown(series)"
   ]
  }
 ],
 "metadata": {
  "kernelspec": {
   "display_name": "Python 3",
   "language": "python",
   "name": "python3"
  },
  "language_info": {
   "codemirror_mode": {
    "name": "ipython",
    "version": 3
   },
   "file_extension": ".py",
   "mimetype": "text/x-python",
   "name": "python",
   "nbconvert_exporter": "python",
   "pygments_lexer": "ipython3",
   "version": "3.7.0"
  }
 },
 "nbformat": 4,
 "nbformat_minor": 1
}
