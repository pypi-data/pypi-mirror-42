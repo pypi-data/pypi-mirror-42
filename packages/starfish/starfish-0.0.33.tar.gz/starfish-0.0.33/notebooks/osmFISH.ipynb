{
 "cells": [
  {
   "cell_type": "code",
   "execution_count": null,
   "metadata": {},
   "outputs": [],
   "source": [
    "import os\n",
    "import pickle\n",
    "\n",
    "import matplotlib.pyplot as plt\n",
    "import numpy as np\n",
    "import pandas as pd\n",
    "\n",
    "import starfish\n",
    "import starfish.data\n",
    "from starfish import FieldOfView\n",
    "from starfish.types import Axes\n",
    "\n",
    "%matplotlib inline\n",
    "%load_ext autoreload\n",
    "%autoreload 2"
   ]
  },
  {
   "cell_type": "code",
   "execution_count": null,
   "metadata": {},
   "outputs": [],
   "source": [
    "experiment = starfish.data.osmFISH(use_test_data=True)\n",
    "stack = experiment[\"fov_000\"][FieldOfView.PRIMARY_IMAGES]"
   ]
  },
  {
   "cell_type": "markdown",
   "metadata": {},
   "source": [
    "## Load pysmFISH results"
   ]
  },
  {
   "cell_type": "markdown",
   "metadata": {},
   "source": [
    "The Field of view that we've used for the test data corresponds to Aldoc, imaged in round one, in position 33. We've also packaged the results from the osmFISH publication for this target to demonstrate that starfish is capable of recovering the same results."
   ]
  },
  {
   "cell_type": "markdown",
   "metadata": {},
   "source": [
    "The below commands parse and load the results from this file."
   ]
  },
  {
   "cell_type": "code",
   "execution_count": null,
   "metadata": {},
   "outputs": [],
   "source": [
    "def load_results(pickle_file):\n",
    "    with open(pickle_file, \"rb\") as f:\n",
    "        return pickle.load(f)\n",
    "\n",
    "def get_benchmark_peaks(loaded_results, redo_flag=False):\n",
    "\n",
    "    if not redo_flag:\n",
    "        sp = pd.DataFrame(\n",
    "            {\n",
    "                \"y\":loaded_results[\"selected_peaks\"][:,0],\n",
    "                \"x\":loaded_results[\"selected_peaks\"][:,1],\n",
    "                \"selected_peaks_int\": loaded_results[\"selected_peaks_int\"],\n",
    "            }\n",
    "        )\n",
    "    else:\n",
    "        p = peaks(loaded_results)\n",
    "        coords = p[p.thr_array==loaded_results[\"selected_thr\"]].peaks_coords\n",
    "        coords = coords.values[0]\n",
    "        sp = pd.DataFrame({\"x\":coords[:,0], \"y\":coords[:,1]})\n",
    "\n",
    "    return sp\n",
    "\n",
    "try:\n",
    "    module_path = __file__\n",
    "except NameError:\n",
    "    # this is probably being run from jupyter\n",
    "    cwd = \".\"\n",
    "else:\n",
    "    cwd = os.path.dirname(module_path)\n",
    "benchmark_results = load_results(os.path.join(\n",
    "    cwd, \"data\", \"EXP-17-BP3597_hyb1_Aldoc_pos_33.pkl\"))\n",
    "benchmark_peaks = get_benchmark_peaks(benchmark_results, redo_flag=False)"
   ]
  },
  {
   "cell_type": "markdown",
   "metadata": {},
   "source": [
    "# Re-produce pysmFISH Results"
   ]
  },
  {
   "cell_type": "markdown",
   "metadata": {},
   "source": [
    "## Filtering code"
   ]
  },
  {
   "cell_type": "markdown",
   "metadata": {},
   "source": [
    "Remove background using a gaussian high-pass filter, then enhance spots with a Laplacian filter."
   ]
  },
  {
   "cell_type": "code",
   "execution_count": null,
   "metadata": {},
   "outputs": [],
   "source": [
    "filter_ghp = starfish.image.Filter.GaussianHighPass(sigma=(1,8,8), is_volume=True)\n",
    "filter_laplace = starfish.image.Filter.Laplace(sigma=(0.2, 0.5, 0.5), is_volume=True)\n",
    "\n",
    "stack_ghp = filter_ghp.run(stack, in_place=False)\n",
    "stack_ghp_laplace = filter_laplace.run(stack_ghp, in_place=False)"
   ]
  },
  {
   "cell_type": "markdown",
   "metadata": {},
   "source": [
    "Max project over Z, then select the 1st `(0)` channel for visualization in the notebook to demonstrate the effect of background removal using these filters."
   ]
  },
  {
   "cell_type": "code",
   "execution_count": null,
   "metadata": {},
   "outputs": [],
   "source": [
    "mp = stack_ghp_laplace.max_proj(Axes.ZPLANE)\n",
    "array_for_visualization = mp.xarray.sel({Axes.CH: 0}).squeeze()"
   ]
  },
  {
   "cell_type": "code",
   "execution_count": null,
   "metadata": {},
   "outputs": [],
   "source": [
    "plt.figure(figsize=(10, 10))\n",
    "plt.imshow(\n",
    "    array_for_visualization,\n",
    "    cmap=\"gray\",\n",
    "    vmin=np.percentile(array_for_visualization, 98),\n",
    "    vmax=np.percentile(array_for_visualization, 99.9),\n",
    ")\n",
    "plt.title(\"Filtered max projection\")\n",
    "plt.axis(\"off\");"
   ]
  },
  {
   "cell_type": "markdown",
   "metadata": {},
   "source": [
    "### Spot Finding"
   ]
  },
  {
   "cell_type": "markdown",
   "metadata": {},
   "source": [
    "osmFISH uses a peak finder that distinguishes local maxima from their surroundings whose absolute intensities exceed a threshold value. It tests a number of different thresholds, building a curve from the number of peaks detected at each threshold. A threshold in the _stable region_ of the curve is selected, and final peaks are called with that threshold.\n",
    "\n",
    "This process is repeated independently for each round and channel. Here we show this process on a single round and channel to demonstrate the procedure."
   ]
  },
  {
   "cell_type": "code",
   "execution_count": null,
   "metadata": {},
   "outputs": [],
   "source": [
    "lmp = starfish.spots.SpotFinder.LocalMaxPeakFinder(\n",
    "    min_distance=6,\n",
    "    stringency=0,\n",
    "    min_obj_area=6,\n",
    "    max_obj_area=600,\n",
    ")\n",
    "spot_intensities = lmp.run(mp)"
   ]
  },
  {
   "cell_type": "markdown",
   "metadata": {},
   "source": [
    "### Spot finding QA"
   ]
  },
  {
   "cell_type": "markdown",
   "metadata": {},
   "source": [
    "Select spots in the first round and channel and plot their intensities"
   ]
  },
  {
   "cell_type": "code",
   "execution_count": null,
   "metadata": {},
   "outputs": [],
   "source": [
    "aldoc_spot_intensities = spot_intensities.sel({Axes.ROUND.value: 0, Axes.CH.value: 0})\n",
    "\n",
    "plt.hist(aldoc_spot_intensities, bins=20)\n",
    "plt.yscale(\"log\")\n",
    "plt.xlabel(\"Intensity\")\n",
    "plt.ylabel(\"Number of spots\");"
   ]
  },
  {
   "cell_type": "markdown",
   "metadata": {},
   "source": [
    "Starfish enables maximum projection and slicing of the ImageStack object. However, these projections will maintain the 5d shape, leaving one-length dimensions for any array that has been projected over. Here the maximum projection of the z-plane of the ImageStack is calculated. From it, the first channel and round are selected, and `squeeze` is used to eliminate any dimensions with only one value, yielding a two-dimension `(x, y)` tile that can be plotted."
   ]
  },
  {
   "cell_type": "code",
   "execution_count": null,
   "metadata": {},
   "outputs": [],
   "source": [
    "maximum_projection_5d = stack_ghp_laplace.max_proj(Axes.ZPLANE)\n",
    "maximum_projection_2d = mp.sel({Axes.CH: 0, Axes.ROUND: 0}).xarray.squeeze()"
   ]
  },
  {
   "cell_type": "markdown",
   "metadata": {},
   "source": [
    "Use the maximum projection to plot all spots detected by starfish:"
   ]
  },
  {
   "cell_type": "code",
   "execution_count": null,
   "metadata": {},
   "outputs": [],
   "source": [
    "plt.figure(figsize=(10,10))\n",
    "plt.imshow(\n",
    "    maximum_projection_2d,\n",
    "    cmap = \"gray\",\n",
    "    vmin=np.percentile(maximum_projection_2d, 98),\n",
    "    vmax=np.percentile(maximum_projection_2d, 99.9),\n",
    ")\n",
    "plt.plot(spot_intensities[Axes.X.value], spot_intensities[Axes.Y.value], \"or\")\n",
    "plt.axis(\"off\");"
   ]
  },
  {
   "cell_type": "markdown",
   "metadata": {},
   "source": [
    "## Compare to pySMFISH peak calls"
   ]
  },
  {
   "cell_type": "markdown",
   "metadata": {},
   "source": [
    "Plot spots detected in the benchmark as blue spots, and overlay spots from starfish as orange x's. Starfish detects the same spot positions, but 41 fewer spots in total."
   ]
  },
  {
   "cell_type": "code",
   "execution_count": null,
   "metadata": {},
   "outputs": [],
   "source": [
    "benchmark_spot_count = len(benchmark_peaks)\n",
    "starfish_spot_count = len(spot_intensities)\n",
    "\n",
    "plt.figure(figsize=(10,10))\n",
    "plt.plot(benchmark_peaks.x, -benchmark_peaks.y, \"o\")\n",
    "plt.plot(spot_intensities[Axes.X.value], -spot_intensities[Axes.Y.value], \"x\")\n",
    "\n",
    "plt.legend([\"Benchmark: {} spots\".format(benchmark_spot_count),\n",
    "            \"Starfish: {} spots\".format(starfish_spot_count)])\n",
    "plt.title(\"Starfish x osmFISH Benchmark Comparison\");"
   ]
  },
  {
   "cell_type": "code",
   "execution_count": null,
   "metadata": {},
   "outputs": [],
   "source": [
    "spot_difference = benchmark_spot_count - starfish_spot_count\n",
    "print(f\"Starfish finds {spot_difference} fewer spots\")\n",
    "assert spot_difference == 41  # for starfish testing purposes"
   ]
  }
 ],
 "metadata": {
  "kernelspec": {
   "display_name": "starfish",
   "language": "python",
   "name": "starfish"
  },
  "language_info": {
   "codemirror_mode": {
    "name": "ipython",
    "version": 3
   },
   "file_extension": ".py",
   "mimetype": "text/x-python",
   "name": "python",
   "nbconvert_exporter": "python",
   "pygments_lexer": "ipython3",
   "version": "3.6.5"
  }
 },
 "nbformat": 4,
 "nbformat_minor": 2
}