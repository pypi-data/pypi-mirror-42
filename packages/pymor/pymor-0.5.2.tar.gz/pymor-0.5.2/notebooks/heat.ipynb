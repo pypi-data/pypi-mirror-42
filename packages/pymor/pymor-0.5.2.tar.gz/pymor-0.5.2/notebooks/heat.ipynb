{
 "cells": [
  {
   "cell_type": "raw",
   "metadata": {},
   "source": [
    "This file is part of the pyMOR project (http://www.pymor.org).\n",
    "Copyright 2013-2018 pyMOR developers and contributors. All rights reserved.\n",
    "License: BSD 2-Clause License (http://opensource.org/licenses/BSD-2-Clause)"
   ]
  },
  {
   "cell_type": "markdown",
   "metadata": {},
   "source": [
    "# Heat equation example"
   ]
  },
  {
   "cell_type": "markdown",
   "metadata": {},
   "source": [
    "## Analytic problem formulation\n",
    "\n",
    "We consider the heat equation on the segment $[0, 1]$, with dissipation on both sides, heating (input) $u$ on the left, and measurement (output) $\\tilde{y}$ on the right:\n",
    "$$\n",
    "\\begin{align*}\n",
    "    \\partial_t T(z, t) & = \\partial_{zz} T(z, t), & 0 < z < 1,\\ t > 0, \\\\\n",
    "    \\partial_z T(0, t) & = T(0, t) - u(t), & t > 0, \\\\\n",
    "    \\partial_z T(1, t) & = -T(1, t), & t > 0, \\\\\n",
    "    \\tilde{y}(t) & = T(1, t), & t > 0.\n",
    "\\end{align*}\n",
    "$$\n"
   ]
  },
  {
   "cell_type": "markdown",
   "metadata": {},
   "source": [
    "## Import modules"
   ]
  },
  {
   "cell_type": "code",
   "execution_count": null,
   "metadata": {},
   "outputs": [],
   "source": [
    "import numpy as np\n",
    "import scipy.linalg as spla\n",
    "import scipy.integrate as spint\n",
    "import matplotlib.pyplot as plt\n",
    "\n",
    "from pymor.basic import *\n",
    "from pymor.core.config import config\n",
    "set_log_levels({'pymor.algorithms.gram_schmidt.gram_schmidt': 'WARNING'})"
   ]
  },
  {
   "cell_type": "markdown",
   "metadata": {},
   "source": [
    "## Assemble LTISystem"
   ]
  },
  {
   "cell_type": "markdown",
   "metadata": {},
   "source": [
    "### Discretize problem"
   ]
  },
  {
   "cell_type": "code",
   "execution_count": null,
   "metadata": {},
   "outputs": [],
   "source": [
    "p = InstationaryProblem(\n",
    "    StationaryProblem(\n",
    "        domain=LineDomain([0.,1.], left='robin', right='robin'),\n",
    "        diffusion=ConstantFunction(1., 1),\n",
    "        robin_data=(ConstantFunction(1., 1), ExpressionFunction('(x[...,0] < 1e-10) * 1.', 1)),\n",
    "        functionals={'output': ('l2_boundary', ExpressionFunction('(x[...,0] > (1 - 1e-10)) * 1.', 1))}\n",
    "    ),\n",
    "    ConstantFunction(0., 1),\n",
    "    T=3.\n",
    ")\n",
    "\n",
    "d, _ = discretize_instationary_cg(p, diameter=1/100, nt=100)"
   ]
  },
  {
   "cell_type": "markdown",
   "metadata": {},
   "source": [
    "### Visualize solution for constant input of 1"
   ]
  },
  {
   "cell_type": "code",
   "execution_count": null,
   "metadata": {},
   "outputs": [],
   "source": [
    "d.visualize(d.solve())"
   ]
  },
  {
   "cell_type": "markdown",
   "metadata": {},
   "source": [
    "### Convert to LTISystem"
   ]
  },
  {
   "cell_type": "code",
   "execution_count": null,
   "metadata": {},
   "outputs": [],
   "source": [
    "lti = d.to_lti()"
   ]
  },
  {
   "cell_type": "markdown",
   "metadata": {},
   "source": [
    "## LTI system"
   ]
  },
  {
   "cell_type": "code",
   "execution_count": null,
   "metadata": {},
   "outputs": [],
   "source": [
    "print('n = {}'.format(lti.n))\n",
    "print('m = {}'.format(lti.m))\n",
    "print('p = {}'.format(lti.p))"
   ]
  },
  {
   "cell_type": "code",
   "execution_count": null,
   "metadata": {},
   "outputs": [],
   "source": [
    "poles = lti.poles()\n",
    "fig, ax = plt.subplots()\n",
    "ax.plot(poles.real, poles.imag, '.')\n",
    "ax.set_title('System poles')\n",
    "plt.show()"
   ]
  },
  {
   "cell_type": "code",
   "execution_count": null,
   "metadata": {},
   "outputs": [],
   "source": [
    "w = np.logspace(-2, 3, 100)\n",
    "fig, ax = plt.subplots()\n",
    "lti.mag_plot(w, ax=ax)\n",
    "ax.set_title('Bode plot of the full model')\n",
    "plt.show()"
   ]
  },
  {
   "cell_type": "code",
   "execution_count": null,
   "metadata": {},
   "outputs": [],
   "source": [
    "hsv = lti.hsv()\n",
    "fig, ax = plt.subplots()\n",
    "ax.semilogy(range(1, len(hsv) + 1), hsv, '.-')\n",
    "ax.set_title('Hankel singular values')\n",
    "plt.show()"
   ]
  },
  {
   "cell_type": "code",
   "execution_count": null,
   "metadata": {},
   "outputs": [],
   "source": [
    "print('H_2-norm of the full model:    {:e}'.format(lti.h2_norm()))\n",
    "if config.HAVE_SLYCOT:\n",
    "    print('H_inf-norm of the full model:  {:e}'.format(lti.hinf_norm()))\n",
    "print('Hankel-norm of the full model: {:e}'.format(lti.hankel_norm()))"
   ]
  },
  {
   "cell_type": "markdown",
   "metadata": {},
   "source": [
    "## Balanced Truncation (BT)"
   ]
  },
  {
   "cell_type": "code",
   "execution_count": null,
   "metadata": {},
   "outputs": [],
   "source": [
    "r = 5\n",
    "bt_reductor = BTReductor(lti)\n",
    "rom_bt = bt_reductor.reduce(r, tol=1e-5)"
   ]
  },
  {
   "cell_type": "code",
   "execution_count": null,
   "metadata": {},
   "outputs": [],
   "source": [
    "err_bt = lti - rom_bt\n",
    "print('H_2-error for the BT ROM:    {:e}'.format(err_bt.h2_norm()))\n",
    "if config.HAVE_SLYCOT:\n",
    "    print('H_inf-error for the BT ROM:  {:e}'.format(err_bt.hinf_norm()))\n",
    "print('Hankel-error for the BT ROM: {:e}'.format(err_bt.hankel_norm()))"
   ]
  },
  {
   "cell_type": "code",
   "execution_count": null,
   "metadata": {},
   "outputs": [],
   "source": [
    "fig, ax = plt.subplots()\n",
    "lti.mag_plot(w, ax=ax)\n",
    "rom_bt.mag_plot(w, ax=ax, linestyle='dashed')\n",
    "ax.set_title('Bode plot of the full and BT reduced model')\n",
    "plt.show()"
   ]
  },
  {
   "cell_type": "code",
   "execution_count": null,
   "metadata": {},
   "outputs": [],
   "source": [
    "fig, ax = plt.subplots()\n",
    "err_bt.mag_plot(w, ax=ax)\n",
    "ax.set_title('Bode plot of the BT error system')\n",
    "plt.show()"
   ]
  },
  {
   "cell_type": "markdown",
   "metadata": {},
   "source": [
    "## LQG Balanced Truncation (LQGBT)"
   ]
  },
  {
   "cell_type": "code",
   "execution_count": null,
   "metadata": {},
   "outputs": [],
   "source": [
    "r = 5\n",
    "lqgbt_reductor = LQGBTReductor(lti)\n",
    "rom_lqgbt = lqgbt_reductor.reduce(r, tol=1e-5)"
   ]
  },
  {
   "cell_type": "code",
   "execution_count": null,
   "metadata": {},
   "outputs": [],
   "source": [
    "err_lqgbt = lti - rom_lqgbt\n",
    "print('H_2-error for the LQGBT ROM:    {:e}'.format(err_lqgbt.h2_norm()))\n",
    "if config.HAVE_SLYCOT:\n",
    "    print('H_inf-error for the LQGBT ROM:  {:e}'.format(err_lqgbt.hinf_norm()))\n",
    "print('Hankel-error for the LQGBT ROM: {:e}'.format(err_lqgbt.hankel_norm()))"
   ]
  },
  {
   "cell_type": "code",
   "execution_count": null,
   "metadata": {},
   "outputs": [],
   "source": [
    "fig, ax = plt.subplots()\n",
    "lti.mag_plot(w, ax=ax)\n",
    "rom_lqgbt.mag_plot(w, ax=ax, linestyle='dashed')\n",
    "ax.set_title('Bode plot of the full and LQGBT reduced model')\n",
    "plt.show()"
   ]
  },
  {
   "cell_type": "code",
   "execution_count": null,
   "metadata": {},
   "outputs": [],
   "source": [
    "fig, ax = plt.subplots()\n",
    "err_lqgbt.mag_plot(w, ax=ax)\n",
    "ax.set_title('Bode plot of the LGQBT error system')\n",
    "plt.show()"
   ]
  },
  {
   "cell_type": "markdown",
   "metadata": {},
   "source": [
    "## Bounded Real Balanced Truncation (BRBT)"
   ]
  },
  {
   "cell_type": "code",
   "execution_count": null,
   "metadata": {},
   "outputs": [],
   "source": [
    "r = 5\n",
    "brbt_reductor = BRBTReductor(lti, 0.34)\n",
    "rom_brbt = brbt_reductor.reduce(r, tol=1e-5)"
   ]
  },
  {
   "cell_type": "code",
   "execution_count": null,
   "metadata": {},
   "outputs": [],
   "source": [
    "err_brbt = lti - rom_brbt\n",
    "print('H_2-error for the BRBT ROM:    {:e}'.format(err_brbt.h2_norm()))\n",
    "if config.HAVE_SLYCOT:\n",
    "    print('H_inf-error for the BRBT ROM:  {:e}'.format(err_brbt.hinf_norm()))\n",
    "print('Hankel-error for the BRBT ROM: {:e}'.format(err_brbt.hankel_norm()))"
   ]
  },
  {
   "cell_type": "code",
   "execution_count": null,
   "metadata": {},
   "outputs": [],
   "source": [
    "fig, ax = plt.subplots()\n",
    "lti.mag_plot(w, ax=ax)\n",
    "rom_brbt.mag_plot(w, ax=ax, linestyle='dashed')\n",
    "ax.set_title('Bode plot of the full and BRBT reduced model')\n",
    "plt.show()"
   ]
  },
  {
   "cell_type": "code",
   "execution_count": null,
   "metadata": {},
   "outputs": [],
   "source": [
    "fig, ax = plt.subplots()\n",
    "err_brbt.mag_plot(w, ax=ax)\n",
    "ax.set_title('Bode plot of the BRBT error system')\n",
    "plt.show()"
   ]
  },
  {
   "cell_type": "markdown",
   "metadata": {},
   "source": [
    "## Iterative Rational Krylov Algorithm (IRKA)"
   ]
  },
  {
   "cell_type": "code",
   "execution_count": null,
   "metadata": {},
   "outputs": [],
   "source": [
    "r = 5\n",
    "sigma = np.logspace(-1, 3, r)\n",
    "tol = 1e-4\n",
    "maxit = 100\n",
    "\n",
    "irka_reductor = IRKAReductor(lti)\n",
    "rom_irka = irka_reductor.reduce(r, sigma, tol=tol, maxit=maxit, compute_errors=True)"
   ]
  },
  {
   "cell_type": "code",
   "execution_count": null,
   "metadata": {},
   "outputs": [],
   "source": [
    "fig, ax = plt.subplots()\n",
    "ax.semilogy(irka_reductor.dist, '.-')\n",
    "ax.set_title('Distances between shifts in IRKA iterations')\n",
    "plt.show()"
   ]
  },
  {
   "cell_type": "code",
   "execution_count": null,
   "metadata": {},
   "outputs": [],
   "source": [
    "err_irka = lti - rom_irka\n",
    "print('H_2-error for the IRKA ROM:    {:e}'.format(err_irka.h2_norm()))\n",
    "if config.HAVE_SLYCOT:\n",
    "    print('H_inf-error for the IRKA ROM:  {:e}'.format(err_irka.hinf_norm()))\n",
    "print('Hankel-error for the IRKA ROM: {:e}'.format(err_irka.hankel_norm()))"
   ]
  },
  {
   "cell_type": "code",
   "execution_count": null,
   "metadata": {},
   "outputs": [],
   "source": [
    "fig, ax = plt.subplots()\n",
    "lti.mag_plot(w, ax=ax)\n",
    "rom_irka.mag_plot(w, ax=ax, linestyle='dashed')\n",
    "ax.set_title('Bode plot of the full and IRKA reduced model')\n",
    "plt.show()"
   ]
  },
  {
   "cell_type": "code",
   "execution_count": null,
   "metadata": {},
   "outputs": [],
   "source": [
    "fig, ax = plt.subplots()\n",
    "err_irka.mag_plot(w, ax=ax)\n",
    "ax.set_title('Bode plot of the IRKA error system')\n",
    "plt.show()"
   ]
  },
  {
   "cell_type": "markdown",
   "metadata": {},
   "source": [
    "## Two-Sided Iteration Algorithm (TSIA)"
   ]
  },
  {
   "cell_type": "code",
   "execution_count": null,
   "metadata": {},
   "outputs": [],
   "source": [
    "r = 5\n",
    "Ar = np.diag(-np.logspace(-1, 3, r))\n",
    "Br = np.ones((r, 1))\n",
    "Cr = np.ones((1, r))\n",
    "Er = np.eye(r)\n",
    "\n",
    "rom0 = LTISystem.from_matrices(Ar, Br, Cr, E=Er,\n",
    "                               input_id=lti.input_space.id,\n",
    "                               state_id=lti.state_space.id,\n",
    "                               output_id=lti.output_space.id)\n",
    "\n",
    "tsia_reductor = TSIAReductor(lti)\n",
    "rom_tsia = tsia_reductor.reduce(rom0, compute_errors=True)"
   ]
  },
  {
   "cell_type": "markdown",
   "metadata": {},
   "source": [
    "## Transfer Function IRKA (TF-IRKA)\n",
    "\n",
    "Applying Laplace transformation to the original PDE formulation, we obtain a parametric boundary value problem\n",
    "$$\n",
    "\\begin{align*}\n",
    "    s \\hat{T}(z, s) & = \\partial_{zz} \\hat{T}(z, s), \\\\\n",
    "    \\partial_z \\hat{T}(0, s) & = \\hat{T}(0, s) - \\hat{u}(s), \\\\\n",
    "    \\partial_z \\hat{T}(1, s) & = -\\hat{T}(1, s), \\\\\n",
    "    \\hat{\\tilde{y}}(s) & = \\hat{T}(1, s),\n",
    "\\end{align*}\n",
    "$$\n",
    "where $\\hat{T}$, $\\hat{u}$, and $\\hat{\\tilde{y}}$ are respectively Laplace transforms of $T$, $u$, and $\\tilde{y}$.\n",
    "We assumed the initial condition to be zero ($T(z, 0) = 0$).\n",
    "The parameter $s$ is any complex number in the region convergence of the Laplace tranformation.\n",
    "\n",
    "Inserting $\\hat{T}(z, s) = c_1 \\exp\\left(\\sqrt{s} z\\right) + c_2 \\exp\\left(-\\sqrt{s} z\\right)$, from the boundary conditions we get a system of equations\n",
    "$$\n",
    "\\begin{align*}\n",
    "    \\left(\\sqrt{s} - 1\\right) c_1\n",
    "    - \\left(\\sqrt{s} + 1\\right) c_2 + \\hat{u}(s) & = 0, \\\\\n",
    "    \\left(\\sqrt{s} + 1\\right) \\exp\\left(\\sqrt{s}\\right) c_1\n",
    "    - \\left(\\sqrt{s} - 1\\right) \\exp\\left(-\\sqrt{s}\\right) c_2 & = 0.\n",
    "\\end{align*}\n",
    "$$\n",
    "We can solve it using `sympy` and then find the transfer function ($\\hat{\\tilde{y}}(s) / \\hat{u}(s)$)."
   ]
  },
  {
   "cell_type": "code",
   "execution_count": null,
   "metadata": {},
   "outputs": [],
   "source": [
    "import sympy as sy\n",
    "sy.init_printing()\n",
    "\n",
    "sy_s, sy_u, sy_c1, sy_c2 = sy.symbols('s u c1 c2')\n",
    "\n",
    "sol = sy.solve([(sy.sqrt(sy_s) - 1) * sy_c1 - (sy.sqrt(sy_s) + 1) * sy_c2 + sy_u,\n",
    "                (sy.sqrt(sy_s) + 1) * sy.exp(sy.sqrt(sy_s)) * sy_c1 -\n",
    "                (sy.sqrt(sy_s) - 1) * sy.exp(-sy.sqrt(sy_s)) * sy_c2],\n",
    "               [sy_c1, sy_c2])\n",
    "\n",
    "y = sol[sy_c1] * sy.exp(sy.sqrt(sy_s)) + sol[sy_c2] * sy.exp(-sy.sqrt(sy_s))\n",
    "\n",
    "tf = sy.simplify(y / sy_u)\n",
    "tf"
   ]
  },
  {
   "cell_type": "markdown",
   "metadata": {},
   "source": [
    "Notice that for $s = 0$, the expression is of the form $0 / 0$."
   ]
  },
  {
   "cell_type": "code",
   "execution_count": null,
   "metadata": {},
   "outputs": [],
   "source": [
    "sy.limit(tf, sy_s, 0)"
   ]
  },
  {
   "cell_type": "code",
   "execution_count": null,
   "metadata": {},
   "outputs": [],
   "source": [
    "dtf = tf.diff(sy_s)\n",
    "dtf"
   ]
  },
  {
   "cell_type": "code",
   "execution_count": null,
   "metadata": {},
   "outputs": [],
   "source": [
    "sy.limit(dtf, sy_s, 0)"
   ]
  },
  {
   "cell_type": "markdown",
   "metadata": {},
   "source": [
    "We can now form the transfer function system."
   ]
  },
  {
   "cell_type": "code",
   "execution_count": null,
   "metadata": {},
   "outputs": [],
   "source": [
    "def H(s):\n",
    "    if s == 0:\n",
    "        return np.array([[1 / 3]])\n",
    "    else:\n",
    "        return np.array([[complex(tf.subs(sy_s, s))]])"
   ]
  },
  {
   "cell_type": "code",
   "execution_count": null,
   "metadata": {},
   "outputs": [],
   "source": [
    "def dH(s):\n",
    "    if s == 0:\n",
    "        return np.array([[-13 / 54]])\n",
    "    else:\n",
    "        return np.array([[complex(dtf.subs(sy_s, s))]])"
   ]
  },
  {
   "cell_type": "code",
   "execution_count": null,
   "metadata": {},
   "outputs": [],
   "source": [
    "tf_sys = TransferFunction(NumpyVectorSpace(1, 'INPUT'), NumpyVectorSpace(1, 'OUTPUT'), H, dH)"
   ]
  },
  {
   "cell_type": "markdown",
   "metadata": {},
   "source": [
    "Here we compare it to the discretized system, by Bode plot, $\\mathcal{H}_2$-norm, and $\\mathcal{H}_2$-distance."
   ]
  },
  {
   "cell_type": "code",
   "execution_count": null,
   "metadata": {},
   "outputs": [],
   "source": [
    "tf_sys_w = tf_sys.bode(w)\n",
    "lti_w = lti.bode(w)"
   ]
  },
  {
   "cell_type": "code",
   "execution_count": null,
   "metadata": {},
   "outputs": [],
   "source": [
    "fig, ax = plt.subplots()\n",
    "ax.loglog(w, spla.norm(tf_sys_w - lti_w, axis=(1, 2)))\n",
    "ax.set_title('Distance between PDE and discretized transfer function')\n",
    "plt.show()"
   ]
  },
  {
   "cell_type": "code",
   "execution_count": null,
   "metadata": {},
   "outputs": [],
   "source": [
    "tf_H2_int, int_err = spint.quad(lambda w: spla.norm(tf_sys.eval_tf(w * 1j)) ** 2, -np.inf, np.inf)\n",
    "print((tf_H2_int, int_err))"
   ]
  },
  {
   "cell_type": "code",
   "execution_count": null,
   "metadata": {},
   "outputs": [],
   "source": [
    "print('H_2-norm of the transfer function  = {:e}'.format(np.sqrt(tf_H2_int / 2 / np.pi)))\n",
    "print('H_2-norm of the discretized system = {:e}'.format(lti.h2_norm()))"
   ]
  },
  {
   "cell_type": "code",
   "execution_count": null,
   "metadata": {},
   "outputs": [],
   "source": [
    "dist_H2_int, dist_int_err = spint.quad(lambda w: spla.norm(tf_sys.eval_tf(w * 1j) - lti.eval_tf(w * 1j)) ** 2,\n",
    "                                       -np.inf, np.inf, epsabs=1e-16)\n",
    "print((dist_H2_int, dist_int_err))"
   ]
  },
  {
   "cell_type": "code",
   "execution_count": null,
   "metadata": {},
   "outputs": [],
   "source": [
    "print('H_2-distance = {:e}'.format(np.sqrt(dist_H2_int / 2 / np.pi)))"
   ]
  },
  {
   "cell_type": "markdown",
   "metadata": {},
   "source": [
    "TF-IRKA finds a reduced model from the transfer function."
   ]
  },
  {
   "cell_type": "code",
   "execution_count": null,
   "metadata": {},
   "outputs": [],
   "source": [
    "tf_irka_reductor = TF_IRKAReductor(tf_sys)\n",
    "rom_tf_irka = tf_irka_reductor.reduce(r)"
   ]
  },
  {
   "cell_type": "markdown",
   "metadata": {},
   "source": [
    "Here we compute the $\\mathcal{H}_2$-distance from the original PDE model to the TF-IRKA's reduced model and to the IRKA's reduced model."
   ]
  },
  {
   "cell_type": "code",
   "execution_count": null,
   "metadata": {},
   "outputs": [],
   "source": [
    "error_H2, error_int_err = spint.quad(lambda w: spla.norm(tf_sys.eval_tf(w * 1j) -\n",
    "                                                         rom_tf_irka.eval_tf(w * 1j)) ** 2,\n",
    "                                     -np.inf, np.inf, epsabs=1e-16)\n",
    "print((error_H2, error_int_err))"
   ]
  },
  {
   "cell_type": "code",
   "execution_count": null,
   "metadata": {},
   "outputs": [],
   "source": [
    "print('H_2-error of TF-IRKA ROM = {:e}'.format(np.sqrt(error_H2 / 2 / np.pi)))"
   ]
  },
  {
   "cell_type": "code",
   "execution_count": null,
   "metadata": {},
   "outputs": [],
   "source": [
    "error_irka_H2, error_irka_int_err = spint.quad(lambda w: spla.norm(tf_sys.eval_tf(w * 1j) -\n",
    "                                                                   rom_irka.eval_tf(w * 1j)) ** 2,\n",
    "                                               -np.inf, np.inf, epsabs=1e-16)\n",
    "print((error_irka_H2, error_irka_int_err))"
   ]
  },
  {
   "cell_type": "code",
   "execution_count": null,
   "metadata": {},
   "outputs": [],
   "source": [
    "print('H_2-error of IRKA ROM = {:e}'.format(np.sqrt(error_irka_H2 / 2 / np.pi)))"
   ]
  }
 ],
 "metadata": {
  "kernelspec": {
   "display_name": "Python 3",
   "language": "python",
   "name": "python3"
  },
  "language_info": {
   "codemirror_mode": {
    "name": "ipython",
    "version": 3
   },
   "file_extension": ".py",
   "mimetype": "text/x-python",
   "name": "python",
   "nbconvert_exporter": "python",
   "pygments_lexer": "ipython3",
   "version": "3.5.5"
  }
 },
 "nbformat": 4,
 "nbformat_minor": 2
}
