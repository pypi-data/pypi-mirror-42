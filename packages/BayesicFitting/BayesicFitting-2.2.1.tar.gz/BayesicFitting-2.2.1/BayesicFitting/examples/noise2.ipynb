{
 "cells": [
  {
   "cell_type": "markdown",
   "metadata": {},
   "source": [
    "## Purpose: Noise scale estimation\n",
    "\n",
    "Demonstration: \n",
    "    1. Parameter and noise scale fit\n",
    "    2. Influence of noise scale estimation on the Evidence\n",
    "    3. Exercise\n",
    "\n",
    "Author: Do Kester\n"
   ]
  },
  {
   "cell_type": "markdown",
   "metadata": {},
   "source": [
    "Import the necessary classes."
   ]
  },
  {
   "cell_type": "code",
   "execution_count": 1,
   "metadata": {},
   "outputs": [],
   "source": [
    "import numpy as numpy\n",
    "import math\n",
    "\n",
    "from BayesicFitting import PolynomialModel\n",
    "from BayesicFitting import Fitter\n",
    "from BayesicFitting import formatter as fmt\n",
    "import matplotlib.pyplot as plt"
   ]
  },
  {
   "cell_type": "markdown",
   "metadata": {},
   "source": [
    "We construct data with a fixed amount of noise. "
   ]
  },
  {
   "cell_type": "code",
   "execution_count": 2,
   "metadata": {},
   "outputs": [],
   "source": [
    "N = 45\n",
    "x = numpy.linspace( -2.0, 3.0, N, dtype=float )\n",
    "ym = 1.2 + 0.5 * x + 0.33 * x * x + 0.27 * x * x * x\n",
    "\n",
    "seed = numpy.random.seed( 10012018 )\n",
    "noise = numpy.random.randn( N )\n",
    "sig = 0.17\n",
    "y = ym + sig * noise"
   ]
  },
  {
   "cell_type": "markdown",
   "metadata": {},
   "source": [
    "We calculate the evidence for a polynomial model, for several values of  an assumed fixed noise scale (black line).\n",
    "These values we compare with the evidence when we also optimize the noise scale (red in the plot).\n"
   ]
  },
  {
   "cell_type": "code",
   "execution_count": 3,
   "metadata": {},
   "outputs": [
    {
     "name": "stdout",
     "output_type": "stream",
     "text": [
      "              scale   evidence      parameters\n",
      "              0.187   -11.518 [    1.218    0.555    0.342    0.257]\n",
      "        0     0.100   -19.701 [    1.218    0.555    0.342    0.257]\n",
      "        1     0.120   -13.485 [    1.218    0.555    0.342    0.257]\n",
      "        2     0.140   -10.524 [    1.218    0.555    0.342    0.257]\n",
      "        3     0.160    -9.199 [    1.218    0.555    0.342    0.257]\n",
      "        4     0.180    -8.757 [    1.218    0.555    0.342    0.257]\n",
      "        5     0.200    -8.817 [    1.218    0.555    0.342    0.257]\n",
      "        6     0.220    -9.170 [    1.218    0.555    0.342    0.257]\n",
      "        7     0.240    -9.698 [    1.218    0.555    0.342    0.257]\n",
      "        8     0.260   -10.328 [    1.218    0.555    0.342    0.257]\n",
      "        9     0.280   -11.016 [    1.218    0.555    0.342    0.257]\n",
      "       10     0.300   -11.736 [    1.218    0.555    0.342    0.257]\n",
      "       11     0.320   -12.468 [    1.218    0.555    0.342    0.257]\n",
      "       12     0.340   -13.202 [    1.218    0.555    0.342    0.257]\n",
      "       13     0.360   -13.931 [    1.218    0.555    0.342    0.257]\n",
      "       14     0.380   -14.648 [    1.218    0.555    0.342    0.257]\n",
      "       15     0.400   -15.353 [    1.218    0.555    0.342    0.257]\n",
      "       16     0.420   -16.041 [    1.218    0.555    0.342    0.257]\n",
      "       17     0.440   -16.714 [    1.218    0.555    0.342    0.257]\n",
      "       18     0.460   -17.369 [    1.218    0.555    0.342    0.257]\n",
      "       19     0.480   -18.008 [    1.218    0.555    0.342    0.257]\n",
      "       20     0.500   -18.629 [    1.218    0.555    0.342    0.257]\n"
     ]
    },
    {
     "data": {
      "image/png": "[encoded data removed]",
      "text/plain": [
       "<matplotlib.figure.Figure at 0x10c220e48>"
      ]
     },
     "metadata": {},
     "output_type": "display_data"
    }
   ],
   "source": [
    "poly = PolynomialModel( 3 )\n",
    "fitter = Fitter( x, poly )\n",
    "param = fitter.fit( y )\n",
    "scale = fitter.scale\n",
    "logp = fitter.getEvidence( limits=[-100,100], noiseLimits=[0.01,10] )\n",
    "print( \"              scale   evidence      parameters\")\n",
    "print( \"         \", fmt( scale ), fmt( logp ), fmt(param) )\n",
    "plt.plot( [scale], [logp], 'r.' )\n",
    "\n",
    "scl = 0.1\n",
    "ev = []\n",
    "xs = []\n",
    "for k in range( 21 ) :\n",
    "    poly = PolynomialModel( 3 )\n",
    "    np = poly.getNumberOfParameters()\n",
    "    fitter = Fitter( x, poly, fixedScale=scl )\n",
    "    param = fitter.fit( y )\n",
    "    chisq = fitter.chisq\n",
    "    stdev = fitter.stdevs\n",
    "    logpr = fitter.getEvidence( limits=[-100,100] )\n",
    "    print( fmt( k ), fmt( scl ), fmt( logpr ), fmt( param ) )\n",
    "    ev += [logpr]\n",
    "    xs += [scl]\n",
    "    scl += 0.02\n",
    "\n",
    "plt.plot( xs, numpy.zeros_like( xs ) + logp, 'r-' )\n",
    "plt.plot( xs, ev, 'k-' )\n",
    "plt.xlim( 0.1, 0.5 )\n",
    "plt.xlabel( \"fixed scale\" )\n",
    "plt.ylabel( \"log Evidence\" )\n",
    "plt.show()"
   ]
  },
  {
   "cell_type": "markdown",
   "metadata": {},
   "source": [
    "The black evidence line is above the red line from about 0.13 to 0.30. \n",
    "This implies that only models with a fixed scale in that small range are \n",
    "more probable than models where we assume the noise scale unknown and we \n",
    "estimate the scale along with the parameters. The optimal estimate of the noise scale is 0.187 (red line).\n",
    "\n",
    "Conclusion: Unless the noise scale is quite well known, it is better (i.e. yields higher evidence) to consider the noise scale a parameter of the problem. \n",
    "\n",
    "Note that the parameters are the same no matter what we assume the noise scale to be. They are orthogonal to each other."
   ]
  },
  {
   "cell_type": "markdown",
   "metadata": {},
   "source": [
    "==============================================================\n",
    "\n",
    "Exercise: Vary the number of points, N, and look what happens to the evidence."
   ]
  },
  {
   "cell_type": "markdown",
   "metadata": {},
   "source": [
    "\n",
    "    "
   ]
  }
 ],
 "metadata": {
  "anaconda-cloud": {},
  "kernelspec": {
   "display_name": "Python 3",
   "language": "python",
   "name": "python3"
  },
  "language_info": {
   "codemirror_mode": {
    "name": "ipython",
    "version": 3
   },
   "file_extension": ".py",
   "mimetype": "text/x-python",
   "name": "python",
   "nbconvert_exporter": "python",
   "pygments_lexer": "ipython3",
   "version": "3.5.4"
  }
 },
 "nbformat": 4,
 "nbformat_minor": 1
}
