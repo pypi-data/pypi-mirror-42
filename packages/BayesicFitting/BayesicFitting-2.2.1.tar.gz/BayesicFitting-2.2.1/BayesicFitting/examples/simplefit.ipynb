{
 "cells": [
  {
   "cell_type": "markdown",
   "metadata": {},
   "source": [
    "## Purpose: simple fit example\n",
    "\n",
    "Artificial data.\n",
    "\n",
    "Demonstration: \n",
    "    1. Linear Model\n",
    "    2. Parameter fit\n",
    "    3. Autoscaling, Chisq, Standard deviations\n",
    "    4. Confidence region for the fit\n",
    "\n",
    "Author: Do Kester\n"
   ]
  },
  {
   "cell_type": "markdown",
   "metadata": {},
   "source": [
    "import classes"
   ]
  },
  {
   "cell_type": "code",
   "execution_count": 1,
   "metadata": {},
   "outputs": [],
   "source": [
    "import numpy as numpy\n",
    "import math\n",
    "\n",
    "from BayesicFitting import PolynomialModel\n",
    "\n",
    "from BayesicFitting import Fitter\n",
    "from BayesicFitting import formatter as fmt\n",
    "from BayesicFitting import plotFit\n",
    "import matplotlib.pyplot as plt"
   ]
  },
  {
   "cell_type": "markdown",
   "metadata": {},
   "source": [
    "define some constants"
   ]
  },
  {
   "cell_type": "code",
   "execution_count": 2,
   "metadata": {},
   "outputs": [],
   "source": [
    "# define some constants\n",
    "N = 201\n",
    "b0 = 1.0            # offset of background\n",
    "b1 = 0.2            # slope of background\n",
    "\n",
    "sig = 0.2"
   ]
  },
  {
   "cell_type": "markdown",
   "metadata": {},
   "source": [
    "make a 3-degree polynomial"
   ]
  },
  {
   "cell_type": "code",
   "execution_count": 3,
   "metadata": {},
   "outputs": [],
   "source": [
    "x = numpy.linspace( -2.0, 5.0, N, dtype=float )\n",
    "ym = b0 + b1 * x\n",
    "\n",
    "numpy.random.seed( 1308 )\n",
    "y = ym + sig * numpy.random.randn( N )\n"
   ]
  },
  {
   "cell_type": "markdown",
   "metadata": {},
   "source": [
    "Define the model"
   ]
  },
  {
   "cell_type": "code",
   "execution_count": 4,
   "metadata": {},
   "outputs": [
    {
     "name": "stdout",
     "output_type": "stream",
     "text": [
      "Polynomial: f( x:p ) = p_0 + p_1 * x\n"
     ]
    }
   ],
   "source": [
    "mdl = PolynomialModel( 1 )\n",
    "print( mdl )\n"
   ]
  },
  {
   "cell_type": "markdown",
   "metadata": {},
   "source": [
    "define the fitter: Fitter"
   ]
  },
  {
   "cell_type": "code",
   "execution_count": 5,
   "metadata": {},
   "outputs": [],
   "source": [
    "fitter = Fitter( x, mdl )\n",
    " \n",
    "# find the parameters\n",
    "param = fitter.fit( y )\n",
    "\n",
    "  "
   ]
  },
  {
   "cell_type": "code",
   "execution_count": 6,
   "metadata": {
    "scrolled": true
   },
   "outputs": [
    {
     "name": "stdout",
     "output_type": "stream",
     "text": [
      "Parameters : [    0.990    0.196]\n",
      "StDevs     : [    0.016    0.006]\n",
      "Chisq      :     6.827\n",
      "Scale      :     0.185\n",
      "Evidence   :   -88.114\n",
      "Covar matrix :\n",
      "[[    0.000   -0.000]\n",
      " [   -0.000    0.000]]\n"
     ]
    }
   ],
   "source": [
    "print( \"Parameters :\", fmt( param, max=None ) )\n",
    "print( \"StDevs     :\", fmt( fitter.stdevs, max=None ) )\n",
    "print( \"Chisq      :\", fmt( fitter.chisq ) )\n",
    "print( \"Scale      :\", fmt( fitter.scale ) )\n",
    "print( \"Evidence   :\", fmt( fitter.getEvidence( limits=[-100,100] ) ) )\n",
    "print( \"Covar matrix :\" )\n",
    "print( fmt( fitter.covariance))"
   ]
  },
  {
   "cell_type": "code",
   "execution_count": 7,
   "metadata": {},
   "outputs": [
    {
     "data": {
      "image/png": "[encoded data removed]",
      "text/plain": [
       "<matplotlib.figure.Figure at 0x106956a20>"
      ]
     },
     "metadata": {},
     "output_type": "display_data"
    }
   ],
   "source": [
    "plotFit( x, y, model=mdl, fitter=fitter )"
   ]
  },
  {
   "cell_type": "code",
   "execution_count": null,
   "metadata": {},
   "outputs": [],
   "source": []
  }
 ],
 "metadata": {
  "anaconda-cloud": {},
  "kernelspec": {
   "display_name": "Python 3",
   "language": "python",
   "name": "python3"
  },
  "language_info": {
   "codemirror_mode": {
    "name": "ipython",
    "version": 3
   },
   "file_extension": ".py",
   "mimetype": "text/x-python",
   "name": "python",
   "nbconvert_exporter": "python",
   "pygments_lexer": "ipython3",
   "version": "3.5.4"
  }
 },
 "nbformat": 4,
 "nbformat_minor": 1
}
