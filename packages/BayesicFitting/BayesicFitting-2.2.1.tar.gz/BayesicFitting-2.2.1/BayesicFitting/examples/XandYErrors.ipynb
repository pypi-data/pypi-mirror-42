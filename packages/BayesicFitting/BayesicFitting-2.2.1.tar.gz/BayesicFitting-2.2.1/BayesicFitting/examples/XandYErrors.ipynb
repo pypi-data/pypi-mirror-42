{
 "cells": [
  {
   "cell_type": "markdown",
   "metadata": {},
   "source": [
    "## Purpose: simple problem with errors in both x and y.\n",
    "\n",
    "In problems with errors in xdata and ydata the positions of all the xdata need to be optimized too. So we have an extra set of parameters that not actually are part of the model to be fitted. These kind of parameters are called nuisance parameters. \n",
    "\n",
    "These kind of problems can be solved with NestedSampler using the ErrorsInXandYProblem in stead of the default ClassicProblem.\n",
    "\n",
    "Gull (1989) proved that for linear models the optimal solution is found by minimizing the perpendicular distances of the datapoints to the line.\n",
    "\n",
    "Demonstration: \n",
    "    1. Linear Model of artificial data\n",
    "    2. Parameter fit with errors in x and y\n",
    "\n",
    "Author: Do Kester\n"
   ]
  },
  {
   "cell_type": "markdown",
   "metadata": {},
   "source": [
    "Import classes"
   ]
  },
  {
   "cell_type": "code",
   "execution_count": 1,
   "metadata": {},
   "outputs": [],
   "source": [
    "import numpy as numpy\n",
    "import math\n",
    "\n",
    "from BayesicFitting import PolynomialModel\n",
    "\n",
    "from BayesicFitting import NestedSampler\n",
    "from BayesicFitting import ErrorsInXandYProblem\n",
    "from BayesicFitting import GaussPrior\n",
    "from BayesicFitting import UniformPrior\n",
    "from BayesicFitting import Tools\n",
    "from BayesicFitting import formatter as fmt\n",
    "from BayesicFitting import plotFit\n",
    "import matplotlib.pyplot as plt\n",
    "import matplotlib.gridspec as gridspec\n",
    "\n",
    "%matplotlib osx"
   ]
  },
  {
   "cell_type": "markdown",
   "metadata": {},
   "source": [
    "Define the constants of the linear relation. "
   ]
  },
  {
   "cell_type": "code",
   "execution_count": 2,
   "metadata": {},
   "outputs": [],
   "source": [
    "# define some constants\n",
    "N = 41\n",
    "b0 = 1.0            # offset of background\n",
    "b1 = 0.8            # slope of background\n",
    "\n",
    "sig = 0.2"
   ]
  },
  {
   "cell_type": "markdown",
   "metadata": {},
   "source": [
    "Make a 1st-degree polynomial"
   ]
  },
  {
   "cell_type": "code",
   "execution_count": 3,
   "metadata": {},
   "outputs": [],
   "source": [
    "xm = numpy.linspace( -2.0, 5.0, N, dtype=float )\n",
    "ym = b0 + b1 * xm\n",
    "\n",
    "numpy.random.seed( 1308 )\n",
    "y = ym + sig * numpy.random.randn( N )\n",
    "x = xm + sig * numpy.random.randn( N )"
   ]
  },
  {
   "cell_type": "markdown",
   "metadata": {},
   "source": [
    "Define the model and define the limits on the model parameters"
   ]
  },
  {
   "cell_type": "code",
   "execution_count": 4,
   "metadata": {},
   "outputs": [],
   "source": [
    "mdl = PolynomialModel( 1 )\n",
    "mdl.setLimits( -10, 10 )\n"
   ]
  },
  {
   "cell_type": "markdown",
   "metadata": {},
   "source": [
    "We need to set a specific Problem in this case: ErrorsInXandYProblem. It adds N extra parameters to the list, one for each datapoint present. These extra (nuisance) parameters need Priors. The same Prior for all, but centered on each of the x-points. \n",
    "[Gull (1989)](https://bayes.wustl.edu/sfg/line.pdf) argues for a Gaussian prior with a sigma about the same size as in the error distribution. \n",
    "\n",
    "\n",
    "The ErrorsInXandYProblem automatically enlists both the GalileanEngine and the GibbsEngine. The latter might be more efficient in moving the extra parameters around. They are all independent of each other and GibbsEngine tries to move the parameters one at a time."
   ]
  },
  {
   "cell_type": "code",
   "execution_count": 5,
   "metadata": {},
   "outputs": [],
   "source": [
    "prior = GaussPrior(  )\n",
    "problem = ErrorsInXandYProblem( mdl, x, y, prior=prior )"
   ]
  },
  {
   "cell_type": "markdown",
   "metadata": {},
   "source": [
    "Invoke the NestedSampler with the problem just instantiated. The limits in the initialisation of NS are passed to the (Jeffreys)Prior of the scale hyperparameter in the (Gauss)Errordistribution. \n",
    "We want to do an extra long run as at the default end (=2.0) the information, H, is not yet completely stabilised."
   ]
  },
  {
   "cell_type": "code",
   "execution_count": 6,
   "metadata": {
    "scrolled": true
   },
   "outputs": [
    {
     "name": "stdout",
     "output_type": "stream",
     "text": [
      "Fit all parameters of\n",
      "  Polynomial: f( x:p ) = p_0 + p_1 * x\n",
      "Using a Gauss error distribution with with unknown scale\n",
      "Moving the walkers with   GalileanEngine  GibbsEngine  ChordEngine\n",
      ">>>>>>>>>>>>>>>>>>>>>>>>>>>>>>>>>>>>>>>>>>>>>>>>>>\n",
      ">>>>>>>>>>>>>>>>>>>>>>>>>>>>>>>>>>>>>>>>>>>\n",
      "Iteration   logZ        H     LowL     npar    parameters\n",
      "    9259    -50.2     30.9     12.3     44  [    1.023    0.768   -2.063   -1.938   -1.630 ...]\n",
      "Engines              success     reject     failed       best      calls\n",
      "GalileanEngine         61558      22287      26174         24       9259\n",
      "GibbsEngine           386665     373144      20731        109       9259\n",
      "ChordEngine            64870     175907          0         51       9259\n",
      "Calls to LogL        1131336   to dLogL      22287\n",
      "Samples        9359\n",
      "Evidence       -21.787 +-      0.241\n"
     ]
    }
   ],
   "source": [
    "ns = NestedSampler( problem=problem, limits=[0.1,1] )\n",
    "\n",
    "# extra long run.\n",
    "ns.end = 3.0\n",
    "\n",
    "# find the solution\n",
    "evid = ns.sample( )\n"
   ]
  },
  {
   "cell_type": "code",
   "execution_count": 7,
   "metadata": {
    "scrolled": true
   },
   "outputs": [
    {
     "name": "stdout",
     "output_type": "stream",
     "text": [
      "Parameters : [    1.027    0.746]\n",
      "StDevs     : [    0.086    0.036]\n",
      "xdata      : [   -1.981   -1.871   -1.571   -1.616   -1.149   -0.835   -0.977   -0.736   -0.632   -0.302 ...]\n",
      "Nuisance   : [   -2.006   -1.917   -1.604   -1.606   -1.027   -0.801   -0.995   -0.896   -0.786   -0.310 ...]\n",
      "StdevNuis  : [    0.238    0.242    0.245    0.247    0.276    0.234    0.277    0.246    0.301    0.220 ...]\n",
      "Scale      :     0.406\n"
     ]
    }
   ],
   "source": [
    "pars = ns.parameters\n",
    "print( \"Parameters :\", fmt( pars, max=None ) )\n",
    "print( \"StDevs     :\", fmt( ns.stdevs, max=10 ) )\n",
    "xopt = ns.samples.nuisance\n",
    "print( \"xdata      :\", fmt( x, max=10))\n",
    "print( \"Nuisance   :\", fmt( xopt, max=10 ) )\n",
    "print( \"StdevNuis  :\", fmt( ns.samples.stdevNuis, max=10 ))\n",
    "print( \"Scale      :\", fmt( ns.scale ) )\n"
   ]
  },
  {
   "cell_type": "markdown",
   "metadata": {},
   "source": [
    "Plot the line and the connections of the datapoints to their targets.\n",
    "Note that the axes are scaled to the same size to show that the distances are perpendicular (more or less)."
   ]
  },
  {
   "cell_type": "code",
   "execution_count": 8,
   "metadata": {},
   "outputs": [
    {
     "data": {
      "image/png": "[encoded data removed]",
      "text/plain": [
       "<matplotlib.figure.Figure at 0x11191a7f0>"
      ]
     },
     "metadata": {},
     "output_type": "display_data"
    }
   ],
   "source": [
    "yfit = mdl.result( x, pars )\n",
    "plt.figure( \"Errors in X and Y\", figsize=(6,6) )\n",
    "\n",
    "plt.plot( x, yfit, 'k-' )\n",
    "yopt = mdl.result( xopt, pars )\n",
    "for k in range( N ):\n",
    "    plt.plot( [x[k],xopt[k]], [y[k],yopt[k]], 'g-')\n",
    "plt.axis( [-3.0, 6.0, -3.0, 6.0] )\n",
    "    \n",
    "plt.show()"
   ]
  },
  {
   "cell_type": "code",
   "execution_count": null,
   "metadata": {},
   "outputs": [],
   "source": []
  }
 ],
 "metadata": {
  "anaconda-cloud": {},
  "kernelspec": {
   "display_name": "Python 3",
   "language": "python",
   "name": "python3"
  },
  "language_info": {
   "codemirror_mode": {
    "name": "ipython",
    "version": 3
   },
   "file_extension": ".py",
   "mimetype": "text/x-python",
   "name": "python",
   "nbconvert_exporter": "python",
   "pygments_lexer": "ipython3",
   "version": "3.5.4"
  }
 },
 "nbformat": 4,
 "nbformat_minor": 1
}
